{
  "nbformat": 4,
  "nbformat_minor": 0,
  "metadata": {
    "colab": {
      "name": "AI02_lab.ipynb의 사본",
      "provenance": [],
      "collapsed_sections": []
    },
    "kernelspec": {
      "display_name": "Python 3",
      "language": "python",
      "name": "python3"
    },
    "language_info": {
      "codemirror_mode": {
        "name": "ipython",
        "version": 3
      },
      "file_extension": ".py",
      "mimetype": "text/x-python",
      "name": "python",
      "nbconvert_exporter": "python",
      "pygments_lexer": "ipython3",
      "version": "3.7.1"
    }
  },
  "cells": [
    {
      "cell_type": "markdown",
      "metadata": {
        "id": "CcQ8a63wUF5b"
      },
      "source": [
        "# AI 02 - The Perceptron\n",
        "\n",
        "이 실습은 제출하지 않습니다.\n",
        "\n",
        "> 학번:\n",
        ">\n",
        "> 이름:\n",
        "\n",
        "---"
      ]
    },
    {
      "cell_type": "code",
      "metadata": {
        "id": "BiWrK5iEa3QZ",
        "scrolled": true,
        "colab": {
          "base_uri": "https://localhost:8080/"
        },
        "outputId": "408d11f3-174f-49fb-aaf2-045634605267"
      },
      "source": [
        "# 2.1\n",
        "def AND(x1, x2):\n",
        " w1, w2, theta = 0.5, 0.5, 0.7\n",
        " tmp = x1 * w1 + x2 * w2\n",
        " if tmp <= theta:\n",
        "  return 0\n",
        " elif tmp > theta:\n",
        "  return  1\n",
        "print( AND(0,0 ) )\n",
        "print( AND(1,0 ) )\n",
        "print( AND(0,1 ) )\n",
        "print( AND(1,1 ) )\n",
        "\n"
      ],
      "execution_count": null,
      "outputs": [
        {
          "output_type": "stream",
          "name": "stdout",
          "text": [
            "0\n",
            "0\n",
            "0\n",
            "1\n"
          ]
        }
      ]
    },
    {
      "cell_type": "code",
      "metadata": {
        "id": "1b2tHeLka_V3",
        "colab": {
          "base_uri": "https://localhost:8080/"
        },
        "outputId": "fdcf2a8b-022e-4631-87bf-ba155bc69d73"
      },
      "source": [
        "# 2.2\n",
        "import numpy as np\n",
        "x = np.array( [0, 1] )\n",
        "w = np.array( [0.5, 0.5] )\n",
        "b = -0.7\n",
        "print( w*x )\n",
        "print( np.sum(w*x) )\n",
        "print( np.sum(w*x) + b )\n"
      ],
      "execution_count": null,
      "outputs": [
        {
          "output_type": "stream",
          "name": "stdout",
          "text": [
            "[0.  0.5]\n",
            "0.5\n",
            "-0.19999999999999996\n"
          ]
        }
      ]
    },
    {
      "cell_type": "code",
      "metadata": {
        "id": "Q_zrz4llc2ux",
        "colab": {
          "base_uri": "https://localhost:8080/"
        },
        "outputId": "e3562a67-d8d1-40bf-826b-15b4f6287650"
      },
      "source": [
        "# 2.3\n",
        "import numpy as np\n",
        "def AND(x1, x2):\n",
        " x = np.array([x1, x2])\n",
        " w = np.array([0.5, 0.5])\n",
        " b = -0.7\n",
        " tmp = np.sum(w*x) + b\n",
        " if tmp <= 0:\n",
        "  return 0\n",
        " else:\n",
        "  return 1\n",
        "for xs in [(0, 0), (1, 0), (0, 1), (1, 1)]:\n",
        " y = AND(xs[0], xs[1])\n",
        " print(str(xs) + \" -> \" + str(y))\n"
      ],
      "execution_count": null,
      "outputs": [
        {
          "output_type": "stream",
          "name": "stdout",
          "text": [
            "(0, 0) -> 0\n",
            "(1, 0) -> 0\n",
            "(0, 1) -> 0\n",
            "(1, 1) -> 1\n"
          ]
        }
      ]
    },
    {
      "cell_type": "code",
      "metadata": {
        "id": "i94z_1IPiUgf",
        "colab": {
          "base_uri": "https://localhost:8080/"
        },
        "outputId": "73d7caf2-b173-4e03-8b3c-5d4fe656dc86"
      },
      "source": [
        "# 2.4\n",
        "import numpy as np\n",
        "def NAND(x1, x2):\n",
        " x = np.array([x1, x2])\n",
        " w = np.array([-0.5, -0.5])\n",
        " b = 0.7\n",
        " tmp = np.sum(w*x) + b\n",
        " if tmp <= 0:\n",
        "  return 0\n",
        " else:\n",
        "  return 1\n",
        "for xs in [(0, 0), (1, 0), (0, 1), (1, 1)]:\n",
        " y = NAND(xs[0], xs[1])\n",
        " print(str(xs) + \" -> \" + str(y))"
      ],
      "execution_count": null,
      "outputs": [
        {
          "output_type": "stream",
          "name": "stdout",
          "text": [
            "(0, 0) -> 1\n",
            "(1, 0) -> 1\n",
            "(0, 1) -> 1\n",
            "(1, 1) -> 0\n"
          ]
        }
      ]
    },
    {
      "cell_type": "code",
      "metadata": {
        "id": "34xPquH5iW9p",
        "colab": {
          "base_uri": "https://localhost:8080/"
        },
        "outputId": "7b80aa83-506d-4282-e788-eac72262bc79"
      },
      "source": [
        "# 2.5\n",
        "import numpy as np\n",
        "def OR(x1, x2):\n",
        " x = np.array([x1, x2])\n",
        " w = np.array([0.5, 0.5])\n",
        " b = -0.2\n",
        " tmp = np.sum(w*x) + b\n",
        " if tmp <= 0:\n",
        "  return 0\n",
        " else:\n",
        "  return 1\n",
        "for xs in [(0, 0), (1, 0), (0, 1), (1, 1)]:\n",
        " y = OR(xs[0], xs[1])\n",
        " print(str(xs) + \" -> \" + str(y))"
      ],
      "execution_count": null,
      "outputs": [
        {
          "output_type": "stream",
          "name": "stdout",
          "text": [
            "(0, 0) -> 0\n",
            "(1, 0) -> 1\n",
            "(0, 1) -> 1\n",
            "(1, 1) -> 1\n"
          ]
        }
      ]
    },
    {
      "cell_type": "code",
      "metadata": {
        "id": "6Lxo8iR9iZKo",
        "colab": {
          "base_uri": "https://localhost:8080/"
        },
        "outputId": "14dbe85b-5e83-4161-965b-920b2a162f82"
      },
      "source": [
        "# 2.6\n",
        "\n",
        "import numpy as np\n",
        "def XOR(x1, x2):\n",
        " s1 = NAND(x1, x2)\n",
        " s2 = OR(x1, x2)\n",
        " y = AND(s1, s2)\n",
        " return y\n",
        "for xs in [(0, 0), (1, 0), (0, 1), (1, 1)]:\n",
        " y = XOR(xs[0], xs[1])\n",
        " print(str(xs) + \" -> \" + str(y))\n"
      ],
      "execution_count": null,
      "outputs": [
        {
          "output_type": "stream",
          "name": "stdout",
          "text": [
            "(0, 0) -> 0\n",
            "(1, 0) -> 1\n",
            "(0, 1) -> 1\n",
            "(1, 1) -> 0\n"
          ]
        }
      ]
    },
    {
      "cell_type": "code",
      "metadata": {
        "id": "KwLE4ytCCNsj"
      },
      "source": [
        ""
      ],
      "execution_count": null,
      "outputs": []
    }
  ]
}