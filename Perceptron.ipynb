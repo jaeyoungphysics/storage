{
  "nbformat": 4,
  "nbformat_minor": 0,
  "metadata": {
    "colab": {
      "name": "2018132045_김재영_AI02a_lab.ipynb",
      "provenance": [],
      "collapsed_sections": []
    },
    "kernelspec": {
      "display_name": "Python 3",
      "language": "python",
      "name": "python3"
    },
    "language_info": {
      "codemirror_mode": {
        "name": "ipython",
        "version": 3
      },
      "file_extension": ".py",
      "mimetype": "text/x-python",
      "name": "python",
      "nbconvert_exporter": "python",
      "pygments_lexer": "ipython3",
      "version": "3.7.2"
    }
  },
  "cells": [
    {
      "cell_type": "markdown",
      "metadata": {
        "id": "oQ2quCcnN77o"
      },
      "source": [
        "# AI 02a - The Perceptron Learning Algorithm\n",
        "\n",
        "\n",
        "> 학번:\n",
        ">\n",
        "> 이름:\n",
        "\n",
        "---"
      ]
    },
    {
      "cell_type": "markdown",
      "metadata": {
        "id": "NP9gLRxXN77r"
      },
      "source": [
        "**The Perceptron Learning Algorithm**\n",
        "\n",
        "퍼셉트론 학습 알고리즘을 사용하여 AND, OR, NAND와 같은 논리회로의 동작을 구현합니다.\n",
        "알고리즘의 내용은 아래와 같습니다.\n",
        " \n",
        "\n",
        "0. 모든 가중치 0으로 초기화\n",
        "1. 현재 가중치를 가지고 예측 \n",
        "2. 정답과 비교\n",
        "3. 만약 정답과 다르면 아래의 룰을 이용하여 가중치 변화\n",
        "4. 정해진 반복횟수만큼 위의 1~3 과정을 반복\n",
        "\n",
        "가중치 변화 방법:\n",
        "* 만약 (정답 - 예측값) ==  1 이라면, 가중치 증가\n",
        "* 만약 (정답 - 예측값) == -1 이라면, 가중치 감소\n",
        "* 만약 (정답 - 예측값) ==  0 이라면, 아무것도 안함\n",
        "\n",
        "학습의 각 단계에서 아래의 코드를 참조해서 가중치를 변경\n",
        "\n",
        ">[Pseudocode]\n",
        "~~~\n",
        "w <- w + 𝛼 * ( yᵢ - ŷᵢ ) * xᵢ\n",
        "b <- b + 𝛼 * ( yᵢ - ŷᵢ )\n",
        "~~~\n",
        "\n",
        "> ~~~\n",
        "ŷᵢ: prediction (예측값)\n",
        "yᵢ: label (정답)\n",
        "xᵢ: inputs (입력)\n",
        "𝛼: learning rate (학습률)\n",
        "~~~\n",
        "\n",
        "\\##### Edit \\##### 으로 표시된 부분만 수정하면 됩니다.\n",
        "\n",
        "**Reading material:** https://medium.com/@thomascountz/19-line-line-by-line-python-perceptron-b6f113b161f3"
      ]
    },
    {
      "cell_type": "markdown",
      "metadata": {
        "id": "EGEtICtXN77s"
      },
      "source": [
        "### Dataset"
      ]
    },
    {
      "cell_type": "code",
      "metadata": {
        "id": "jyvS-TQ0PYMl"
      },
      "source": [
        "import numpy as np\n"
      ],
      "execution_count": 172,
      "outputs": []
    },
    {
      "cell_type": "code",
      "metadata": {
        "id": "tMLta2_fN77t",
        "colab": {
          "base_uri": "https://localhost:8080/"
        },
        "outputId": "bc7a09f7-1aeb-4ca9-e1ba-8c08f125b1d4"
      },
      "source": [
        "# 퍼셉트론에 입력할 4가지 종류의 입력 조합을 준비\n",
        "inputs_t = []\n",
        "inputs_t.append(np.array([1, 1]))\n",
        "inputs_t.append(np.array([1, 0]))\n",
        "inputs_t.append(np.array([0, 1]))\n",
        "inputs_t.append(np.array([0, 0]))\n",
        "\n",
        "# 위의 4가지 입력 조합에 대한 각 논리회로의 정답을 준비\n",
        "labels_and = np.array([1, 0, 0, 0])\n",
        "labels_nand = np.array([0, 1, 1, 1])\n",
        "labels_or = np.array([1, 1, 1, 0])\n",
        "labels_xor = np.array([0, 1, 1, 0])\n",
        "\n",
        "print(inputs_t)\n",
        "print(inputs_t[0])\n",
        "print(labels_and)"
      ],
      "execution_count": 173,
      "outputs": [
        {
          "output_type": "stream",
          "name": "stdout",
          "text": [
            "[array([1, 1]), array([1, 0]), array([0, 1]), array([0, 0])]\n",
            "[1 1]\n",
            "[1 0 0 0]\n"
          ]
        }
      ]
    },
    {
      "cell_type": "markdown",
      "metadata": {
        "id": "3o4Ayev2N77x"
      },
      "source": [
        "# 1. Perceptron class"
      ]
    },
    {
      "cell_type": "code",
      "metadata": {
        "id": "BNpC_MSsicTM"
      },
      "source": [
        "\n",
        "class Perceptron:\n",
        "    def __init__(self):\n",
        "\n",
        "        # 가중치와 편향을 모두 0으로 초기화\n",
        "        self.w = np.zeros(2)\n",
        "        self.b = 0\n",
        "\n",
        "    def predict(self, x):\n",
        "\n",
        "        # 퍼셉트론 공식에 따라 예측 ( w·x + b )\n",
        "        out = np.dot(self.w , x) + self.b ##### Edit #####\n",
        "\n",
        "        if out > 0:\n",
        "            return 1\n",
        "        else:\n",
        "            return 0\n",
        "        \n",
        "    def train(self, inputs, labels, lr=0.01):\n",
        "\n",
        "        # 학습을 max 1000번 반복        \n",
        "        for epoch in range(1000):\n",
        "\n",
        "            # 중간에 학습 완료를 판별하기 위함\n",
        "            error_num = 0\n",
        "\n",
        "            for x_i, y_i in zip(inputs, labels):\n",
        "                #print(x_i, y_i)\n",
        "\n",
        "          \n",
        "            \n",
        "                # 예측값\n",
        "                y_hat = self.predict(x_i)\n",
        "       \n",
        "                if (y_i - y_hat == 1):\n",
        "                    self.w += lr * (y_i - y_hat) * x_i\n",
        "                    self.b += lr * (y_i - y_hat)\n",
        "                        \n",
        "                elif (y_i- y_hat == -1):\n",
        "                    self.w -= lr * abs(y_i - y_hat) * x_i\n",
        "                    self.b -= lr * abs(y_i - y_hat) \n",
        "            \n",
        "                else: \n",
        "                    pass            \n",
        "\n",
        "\n",
        "                # 오류가 있다면 count\n",
        "                if y_i - y_hat != 0:\n",
        "                    error_num += 1\n",
        "      \n",
        "            # 만약 오류가 없었다면 학습 종료\n",
        "            if error_num == 0:\n",
        "                print( 'Training has finished in epoch {}'.format(epoch) )\n",
        "                break\n",
        "          \n",
        "        \n",
        "        print(\"weight is \", self.w)\n",
        "        print(\"bias is \", self.b)\n",
        "               "
      ],
      "execution_count": 174,
      "outputs": []
    },
    {
      "cell_type": "code",
      "metadata": {
        "id": "2O1FQm65N774"
      },
      "source": [
        "p_and = Perceptron()\n",
        "p_nand = Perceptron()\n",
        "p_or = Perceptron()"
      ],
      "execution_count": 175,
      "outputs": []
    },
    {
      "cell_type": "markdown",
      "metadata": {
        "id": "Vgnj9AINN779"
      },
      "source": [
        "### Train"
      ]
    },
    {
      "cell_type": "code",
      "metadata": {
        "id": "5KIWEMMON77-",
        "colab": {
          "base_uri": "https://localhost:8080/"
        },
        "outputId": "2c242bb7-18cc-4e76-a9a0-7a676f7f0852"
      },
      "source": [
        "p_and.train( inputs_t, labels_and )\n",
        "p_nand.train( inputs_t, labels_nand )\n",
        "p_or.train( inputs_t, labels_or )\n"
      ],
      "execution_count": 176,
      "outputs": [
        {
          "output_type": "stream",
          "name": "stdout",
          "text": [
            "Training has finished in epoch 5\n",
            "weight is  [0.01 0.02]\n",
            "bias is  -0.02\n",
            "Training has finished in epoch 7\n",
            "weight is  [-0.01 -0.02]\n",
            "bias is  0.03\n",
            "Training has finished in epoch 1\n",
            "weight is  [0.01 0.01]\n",
            "bias is  0.0\n"
          ]
        }
      ]
    },
    {
      "cell_type": "markdown",
      "metadata": {
        "id": "n7cyJogdN78D"
      },
      "source": [
        "### Test\n",
        "\n",
        "잘 학습되었을 때 출력되어야 할 결과:\n",
        "~~~\n",
        "AND\n",
        "input: [1 1] predict: 1 label: 1\n",
        "input: [1 0] predict: 0 label: 0\n",
        "input: [0 1] predict: 0 label: 0\n",
        "input: [0 0] predict: 0 label: 0\n",
        "NAND\n",
        "input: [1 1] predict: 0 label: 0\n",
        "input: [1 0] predict: 1 label: 1\n",
        "input: [0 1] predict: 1 label: 1\n",
        "input: [0 0] predict: 1 label: 1\n",
        "OR\n",
        "input: [1 1] predict: 1 label: 1\n",
        "input: [1 0] predict: 1 label: 1\n",
        "input: [0 1] predict: 1 label: 1\n",
        "input: [0 0] predict: 0 label: 0\n",
        "~~~"
      ]
    },
    {
      "cell_type": "code",
      "metadata": {
        "scrolled": true,
        "id": "V7qBhFObN78E",
        "colab": {
          "base_uri": "https://localhost:8080/"
        },
        "outputId": "c7389b48-5633-4698-f2f1-7801f31e9545"
      },
      "source": [
        "# 학습된 퍼셉트론 테스트\n",
        "\n",
        "print('AND')\n",
        "for i, input_i in enumerate(inputs_t):\n",
        "    pred = p_and.predict(input_i)\n",
        "    print( \"input: {} predict: {} label: {}\".format( input_i, pred, labels_and[i] ) )\n",
        "    \n",
        "print('NAND')\n",
        "for i, input_i in enumerate(inputs_t):\n",
        "    pred = p_nand.predict(input_i)\n",
        "    print( \"input: {} predict: {} label: {}\".format( input_i, pred, labels_nand[i] ) )\n",
        "    \n",
        "print('OR')\n",
        "for i, input_i in enumerate(inputs_t):\n",
        "    pred = p_or.predict(input_i)\n",
        "    print( \"input: {} predict: {} label: {}\".format( input_i, pred, labels_or[i] ) )"
      ],
      "execution_count": 177,
      "outputs": [
        {
          "output_type": "stream",
          "name": "stdout",
          "text": [
            "AND\n",
            "input: [1 1] predict: 1 label: 1\n",
            "input: [1 0] predict: 0 label: 0\n",
            "input: [0 1] predict: 0 label: 0\n",
            "input: [0 0] predict: 0 label: 0\n",
            "NAND\n",
            "input: [1 1] predict: 0 label: 0\n",
            "input: [1 0] predict: 1 label: 1\n",
            "input: [0 1] predict: 1 label: 1\n",
            "input: [0 0] predict: 1 label: 1\n",
            "OR\n",
            "input: [1 1] predict: 1 label: 1\n",
            "input: [1 0] predict: 1 label: 1\n",
            "input: [0 1] predict: 1 label: 1\n",
            "input: [0 0] predict: 0 label: 0\n"
          ]
        }
      ]
    },
    {
      "cell_type": "markdown",
      "metadata": {
        "id": "d1qR0zDSN78I"
      },
      "source": [
        "---\n",
        "\n",
        "# 2. Perceptron_XOR class\n",
        "\n",
        "\n",
        "단층 퍼셉트론으로는 XOR를 구현할 수 없기 때문에 Nand, Or, And 게이트 각각을 훈련한 후 조합하는 방식으로 XOR을 구현한 클래스\n",
        "\n",
        "*실습할 문제는 없으며 코드 내용과 결과를 확인해보세요.*"
      ]
    },
    {
      "cell_type": "code",
      "metadata": {
        "id": "K5qKSStbN78I"
      },
      "source": [
        "import numpy as np\n",
        "\n",
        "class Perceptron_XOR:\n",
        "    def __init__(self):\n",
        "\n",
        "        # And, Nand, Or 퍼셉트론 각각 준비\n",
        "        self.p_and = Perceptron()\n",
        "        self.p_nand = Perceptron()\n",
        "        self.p_or = Perceptron()\n",
        "\n",
        "    def predict(self, x):\n",
        "\n",
        "        # Nand, Or 퍼셉트론의 예측 결과를 And에 입력하여 결과 출력\n",
        "        pred_nand = self.p_nand.predict(x)\n",
        "        pred_or = self.p_or.predict(x)\n",
        "        pred_and = self.p_and.predict( np.array( [pred_nand, pred_or] ) )\n",
        "        \n",
        "        return pred_and\n",
        "        \n",
        "    def train(self):\n",
        "\n",
        "        # And, Nand, Or 퍼셉트론 각각 학습\n",
        "        self.p_and.train( inputs_t, labels_and )\n",
        "        self.p_nand.train( inputs_t, labels_nand )\n",
        "        self.p_or.train( inputs_t, labels_or )\n",
        "                        "
      ],
      "execution_count": 178,
      "outputs": []
    },
    {
      "cell_type": "code",
      "metadata": {
        "id": "NyYqY7jrN78N"
      },
      "source": [
        "p_xor = Perceptron_XOR()"
      ],
      "execution_count": 179,
      "outputs": []
    },
    {
      "cell_type": "markdown",
      "metadata": {
        "id": "xrUWPBgdN78R"
      },
      "source": [
        "### Train"
      ]
    },
    {
      "cell_type": "code",
      "metadata": {
        "id": "Ru6E2QPFN78R",
        "colab": {
          "base_uri": "https://localhost:8080/"
        },
        "outputId": "792038e0-34fa-4635-a6ed-adb8081ab28a"
      },
      "source": [
        "p_xor.train()"
      ],
      "execution_count": 180,
      "outputs": [
        {
          "output_type": "stream",
          "name": "stdout",
          "text": [
            "Training has finished in epoch 5\n",
            "weight is  [0.01 0.02]\n",
            "bias is  -0.02\n",
            "Training has finished in epoch 7\n",
            "weight is  [-0.01 -0.02]\n",
            "bias is  0.03\n",
            "Training has finished in epoch 1\n",
            "weight is  [0.01 0.01]\n",
            "bias is  0.0\n"
          ]
        }
      ]
    },
    {
      "cell_type": "markdown",
      "metadata": {
        "id": "1K8chPRjN78W"
      },
      "source": [
        "### Test\n"
      ]
    },
    {
      "cell_type": "code",
      "metadata": {
        "id": "GKsxbQM0N78X",
        "colab": {
          "base_uri": "https://localhost:8080/"
        },
        "outputId": "e4c36212-42aa-4e91-fddf-203bfc33c729"
      },
      "source": [
        "# 학습된 퍼셉트론 테스트\n",
        "\n",
        "print('AND')\n",
        "for i, input_i in enumerate(inputs_t):\n",
        "    pred = p_xor.p_and.predict(input_i)\n",
        "    print( \"input: {} predict: {} label: {}\".format( input_i, pred, labels_and[i] ) )\n",
        "    \n",
        "print('NAND')\n",
        "for i, input_i in enumerate(inputs_t):\n",
        "    pred = p_xor.p_nand.predict(input_i)\n",
        "    print( \"input: {} predict: {} label: {}\".format( input_i, pred, labels_nand[i] ) )\n",
        "    \n",
        "print('OR')\n",
        "for i, input_i in enumerate(inputs_t):\n",
        "    pred = p_xor.p_or.predict(input_i)\n",
        "    print( \"input: {} predict: {} label: {}\".format( input_i, pred, labels_or[i] ) )\n",
        "\n",
        "print('XOR')\n",
        "for i, input_i in enumerate(inputs_t):\n",
        "    pred = p_xor.predict(input_i)\n",
        "    print( \"input: {} predict: {} label: {}\".format( input_i, pred, labels_xor[i] ) )\n",
        "    "
      ],
      "execution_count": 181,
      "outputs": [
        {
          "output_type": "stream",
          "name": "stdout",
          "text": [
            "AND\n",
            "input: [1 1] predict: 1 label: 1\n",
            "input: [1 0] predict: 0 label: 0\n",
            "input: [0 1] predict: 0 label: 0\n",
            "input: [0 0] predict: 0 label: 0\n",
            "NAND\n",
            "input: [1 1] predict: 0 label: 0\n",
            "input: [1 0] predict: 1 label: 1\n",
            "input: [0 1] predict: 1 label: 1\n",
            "input: [0 0] predict: 1 label: 1\n",
            "OR\n",
            "input: [1 1] predict: 1 label: 1\n",
            "input: [1 0] predict: 1 label: 1\n",
            "input: [0 1] predict: 1 label: 1\n",
            "input: [0 0] predict: 0 label: 0\n",
            "XOR\n",
            "input: [1 1] predict: 0 label: 0\n",
            "input: [1 0] predict: 1 label: 1\n",
            "input: [0 1] predict: 1 label: 1\n",
            "input: [0 0] predict: 0 label: 0\n"
          ]
        }
      ]
    },
    {
      "cell_type": "markdown",
      "metadata": {
        "id": "gWUQVWeJN78a"
      },
      "source": [
        "잘 학습되었을 때 출력되어야 할 결과:\n",
        "\n",
        ">~~~\n",
        "AND\n",
        "input: [1 1] predict: 1 label: 1\n",
        "input: [1 0] predict: 0 label: 0\n",
        "input: [0 1] predict: 0 label: 0\n",
        "input: [0 0] predict: 0 label: 0\n",
        "NAND\n",
        "input: [1 1] predict: 0 label: 0\n",
        "input: [1 0] predict: 1 label: 1\n",
        "input: [0 1] predict: 1 label: 1\n",
        "input: [0 0] predict: 1 label: 1\n",
        "OR\n",
        "input: [1 1] predict: 1 label: 1\n",
        "input: [1 0] predict: 1 label: 1\n",
        "input: [0 1] predict: 1 label: 1\n",
        "input: [0 0] predict: 0 label: 0\n",
        "XOR\n",
        "input: [1 1] predict: 0 label: 0\n",
        "input: [1 0] predict: 1 label: 1\n",
        "input: [0 1] predict: 1 label: 1\n",
        "input: [0 0] predict: 0 label: 0\n",
        ">~~~"
      ]
    },
    {
      "cell_type": "code",
      "metadata": {
        "id": "KO__rg8UH5uC"
      },
      "source": [
        ""
      ],
      "execution_count": 181,
      "outputs": []
    }
  ]
}