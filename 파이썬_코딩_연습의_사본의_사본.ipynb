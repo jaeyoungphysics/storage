{
  "nbformat": 4,
  "nbformat_minor": 0,
  "metadata": {
    "colab": {
      "name": "파이썬 코딩 연습의 사본의 사본",
      "provenance": [],
      "collapsed_sections": [],
      "toc_visible": true,
      "include_colab_link": true
    },
    "kernelspec": {
      "name": "python3",
      "display_name": "Python 3"
    },
    "accelerator": "GPU"
  },
  "cells": [
    {
      "cell_type": "markdown",
      "metadata": {
        "id": "view-in-github",
        "colab_type": "text"
      },
      "source": [
        "<a href=\"https://colab.research.google.com/github/jaeyoungphysics/storage/blob/master/%ED%8C%8C%EC%9D%B4%EC%8D%AC_%EC%BD%94%EB%94%A9_%EC%97%B0%EC%8A%B5%EC%9D%98_%EC%82%AC%EB%B3%B8%EC%9D%98_%EC%82%AC%EB%B3%B8.ipynb\" target=\"_parent\"><img src=\"https://colab.research.google.com/assets/colab-badge.svg\" alt=\"Open In Colab\"/></a>"
      ]
    },
    {
      "cell_type": "code",
      "metadata": {
        "id": "AnVAszuoLzs5",
        "colab": {
          "base_uri": "https://localhost:8080/"
        },
        "outputId": "311a6c18-9fbf-4b6e-ab7e-2de835a1858f"
      },
      "source": [
        "a=1\n",
        "b=2\n",
        "a/b"
      ],
      "execution_count": null,
      "outputs": [
        {
          "output_type": "execute_result",
          "data": {
            "text/plain": [
              "0.5"
            ]
          },
          "metadata": {
            "tags": []
          },
          "execution_count": 80
        }
      ]
    },
    {
      "cell_type": "code",
      "metadata": {
        "id": "-09rv35yL3En"
      },
      "source": [
        "import keras"
      ],
      "execution_count": null,
      "outputs": []
    },
    {
      "cell_type": "code",
      "metadata": {
        "id": "qH-mICWTL8Po",
        "colab": {
          "base_uri": "https://localhost:8080/"
        },
        "outputId": "33996036-f4f0-47c1-c818-4e8d8597bd1e"
      },
      "source": [
        "x=[1,2,3,4,5]\n",
        "len(x)"
      ],
      "execution_count": null,
      "outputs": [
        {
          "output_type": "execute_result",
          "data": {
            "text/plain": [
              "5"
            ]
          },
          "metadata": {
            "tags": []
          },
          "execution_count": 82
        }
      ]
    },
    {
      "cell_type": "code",
      "metadata": {
        "id": "znoR56jrMUYV",
        "colab": {
          "base_uri": "https://localhost:8080/"
        },
        "outputId": "6b30fe46-72ee-46b7-c4a5-4a4fbb5a4135"
      },
      "source": [
        "y=range(5,10)\n",
        "print(y[0],y[1],y[2],y[3],y[4])"
      ],
      "execution_count": null,
      "outputs": [
        {
          "output_type": "stream",
          "text": [
            "5 6 7 8 9\n"
          ],
          "name": "stdout"
        }
      ]
    },
    {
      "cell_type": "code",
      "metadata": {
        "id": "ci2VbDDKMdsB",
        "colab": {
          "base_uri": "https://localhost:8080/"
        },
        "outputId": "c20d9264-e907-49b2-ef67-3e78d097f7f9"
      },
      "source": [
        "Z=list(range(5,10))\n",
        "print(Z)"
      ],
      "execution_count": null,
      "outputs": [
        {
          "output_type": "stream",
          "text": [
            "[5, 6, 7, 8, 9]\n"
          ],
          "name": "stdout"
        }
      ]
    },
    {
      "cell_type": "code",
      "metadata": {
        "id": "heggRx_OOGes",
        "colab": {
          "base_uri": "https://localhost:8080/"
        },
        "outputId": "8d0031ce-ef16-4509-d35f-929b6170fab8"
      },
      "source": [
        "a=[[1,2,3,],[4,5,6]]\n",
        "print(a[0][1])"
      ],
      "execution_count": null,
      "outputs": [
        {
          "output_type": "stream",
          "text": [
            "2\n"
          ],
          "name": "stdout"
        }
      ]
    },
    {
      "cell_type": "code",
      "metadata": {
        "id": "6sqpMGrySvdW",
        "colab": {
          "base_uri": "https://localhost:8080/"
        },
        "outputId": "8c6bb42a-23f6-4939-b8cf-8a31e5b8429c"
      },
      "source": [
        "x=[1,1,2,3,5]\n",
        "x[3]=100\n",
        "print(x)"
      ],
      "execution_count": null,
      "outputs": [
        {
          "output_type": "stream",
          "text": [
            "[1, 1, 2, 100, 5]\n"
          ],
          "name": "stdout"
        }
      ]
    },
    {
      "cell_type": "code",
      "metadata": {
        "id": "LmmgLkYtS8MV",
        "colab": {
          "base_uri": "https://localhost:8080/"
        },
        "outputId": "727db386-2154-44ad-ac12-423bea8dde58"
      },
      "source": [
        "num=[2,4,6,8,10]\n",
        "for i in range(len(num)):\n",
        "  num[i]=num[i]*2\n",
        "print(num)"
      ],
      "execution_count": null,
      "outputs": [
        {
          "output_type": "stream",
          "text": [
            "[4, 8, 12, 16, 20]\n"
          ],
          "name": "stdout"
        }
      ]
    },
    {
      "cell_type": "code",
      "metadata": {
        "id": "xYJCm0dlT9Fb",
        "colab": {
          "base_uri": "https://localhost:8080/"
        },
        "outputId": "33f19cd3-774e-4860-ad62-5cb0124ae3dd"
      },
      "source": [
        "num=[2,4,6,8,10]\n",
        "for i,n in enumerate(num):\n",
        "  num[i]=n*2\n",
        "print(num)"
      ],
      "execution_count": null,
      "outputs": [
        {
          "output_type": "stream",
          "text": [
            "[4, 8, 12, 16, 20]\n"
          ],
          "name": "stdout"
        }
      ]
    },
    {
      "cell_type": "code",
      "metadata": {
        "id": "rCYANH3rUeyr",
        "colab": {
          "base_uri": "https://localhost:8080/"
        },
        "outputId": "0ee22fd8-0437-4eb9-ca37-2c9f2195ef6c"
      },
      "source": [
        "[1,2]+[3,4]"
      ],
      "execution_count": null,
      "outputs": [
        {
          "output_type": "execute_result",
          "data": {
            "text/plain": [
              "[1, 2, 3, 4]"
            ]
          },
          "metadata": {
            "tags": []
          },
          "execution_count": 89
        }
      ]
    },
    {
      "cell_type": "code",
      "metadata": {
        "id": "IOCwMreiUmc1",
        "colab": {
          "base_uri": "https://localhost:8080/"
        },
        "outputId": "08767f9c-ed9f-4a58-a8de-0614ac10f7a1"
      },
      "source": [
        "import numpy as np\n",
        "x=np.array([1,2,3])\n",
        "x"
      ],
      "execution_count": null,
      "outputs": [
        {
          "output_type": "execute_result",
          "data": {
            "text/plain": [
              "array([1, 2, 3])"
            ]
          },
          "metadata": {
            "tags": []
          },
          "execution_count": 90
        }
      ]
    },
    {
      "cell_type": "code",
      "metadata": {
        "id": "OAx5XQxeU4-U",
        "colab": {
          "base_uri": "https://localhost:8080/"
        },
        "outputId": "98465fda-7b82-4ad5-9e27-0233a3883d81"
      },
      "source": [
        "print(x)"
      ],
      "execution_count": null,
      "outputs": [
        {
          "output_type": "stream",
          "text": [
            "[1 2 3]\n"
          ],
          "name": "stdout"
        }
      ]
    },
    {
      "cell_type": "code",
      "metadata": {
        "id": "mYkZywzmU9Mo",
        "colab": {
          "base_uri": "https://localhost:8080/"
        },
        "outputId": "14308753-ca17-49f9-dabf-fd6cb559a967"
      },
      "source": [
        "print(list(x))"
      ],
      "execution_count": null,
      "outputs": [
        {
          "output_type": "stream",
          "text": [
            "[1, 2, 3]\n"
          ],
          "name": "stdout"
        }
      ]
    },
    {
      "cell_type": "code",
      "metadata": {
        "id": "1KTzEo3_VC1K",
        "colab": {
          "base_uri": "https://localhost:8080/"
        },
        "outputId": "894874ab-9174-45ee-8bd1-f57c6090215e"
      },
      "source": [
        "y=np.array([4,5,6])\n",
        "print(x+y)"
      ],
      "execution_count": null,
      "outputs": [
        {
          "output_type": "stream",
          "text": [
            "[5 7 9]\n"
          ],
          "name": "stdout"
        }
      ]
    },
    {
      "cell_type": "code",
      "metadata": {
        "id": "1TvNh8VhVoVH",
        "colab": {
          "base_uri": "https://localhost:8080/"
        },
        "outputId": "34c82991-3c6a-466f-f83d-e4975937f24f"
      },
      "source": [
        "type(x)"
      ],
      "execution_count": null,
      "outputs": [
        {
          "output_type": "execute_result",
          "data": {
            "text/plain": [
              "numpy.ndarray"
            ]
          },
          "metadata": {
            "tags": []
          },
          "execution_count": 94
        }
      ]
    },
    {
      "cell_type": "code",
      "metadata": {
        "id": "r1OPpcSMVrmr",
        "colab": {
          "base_uri": "https://localhost:8080/"
        },
        "outputId": "e90a881a-efee-4b0f-b24b-ed162a58196b"
      },
      "source": [
        "x[0]"
      ],
      "execution_count": null,
      "outputs": [
        {
          "output_type": "execute_result",
          "data": {
            "text/plain": [
              "1"
            ]
          },
          "metadata": {
            "tags": []
          },
          "execution_count": 95
        }
      ]
    },
    {
      "cell_type": "code",
      "metadata": {
        "id": "qo3XhzxVVu0Z",
        "colab": {
          "base_uri": "https://localhost:8080/"
        },
        "outputId": "1d291401-ae3d-48f1-ae08-9c9eb237834c"
      },
      "source": [
        "print(np.arange(10))"
      ],
      "execution_count": null,
      "outputs": [
        {
          "output_type": "stream",
          "text": [
            "[0 1 2 3 4 5 6 7 8 9]\n"
          ],
          "name": "stdout"
        }
      ]
    },
    {
      "cell_type": "code",
      "metadata": {
        "id": "RBs8uZbvV7mY",
        "colab": {
          "base_uri": "https://localhost:8080/"
        },
        "outputId": "1c769b56-4dcf-4bd0-9732-0324af00515f"
      },
      "source": [
        "j=np.array([4,5,6])\n",
        "for i in np.arange(1,4):\n",
        "  print(i)\n",
        "  print(i+j)"
      ],
      "execution_count": null,
      "outputs": [
        {
          "output_type": "stream",
          "text": [
            "1\n",
            "[5 6 7]\n",
            "2\n",
            "[6 7 8]\n",
            "3\n",
            "[7 8 9]\n"
          ],
          "name": "stdout"
        }
      ]
    },
    {
      "cell_type": "code",
      "metadata": {
        "id": "mI3m3w2DWyV8",
        "colab": {
          "base_uri": "https://localhost:8080/"
        },
        "outputId": "f2c4b027-8fff-4c31-c19f-0f0249fc4783"
      },
      "source": [
        "a=np.array([1,1])\n",
        "b=a.copy()\n",
        "print('a='+str(a))\n",
        "print('b='+str(b))\n",
        "b[0]=100\n",
        "print('b='+str(b))\n",
        "print('a='+str(a))"
      ],
      "execution_count": null,
      "outputs": [
        {
          "output_type": "stream",
          "text": [
            "a=[1 1]\n",
            "b=[1 1]\n",
            "b=[100   1]\n",
            "a=[1 1]\n"
          ],
          "name": "stdout"
        }
      ]
    },
    {
      "cell_type": "code",
      "metadata": {
        "id": "oI6AcWpBXVHc",
        "colab": {
          "base_uri": "https://localhost:8080/"
        },
        "outputId": "12278a20-9771-4503-bd65-6ec3692fc8fc"
      },
      "source": [
        "x=np.array([[1,2,3],[4,5,6]])\n",
        "print(x)"
      ],
      "execution_count": null,
      "outputs": [
        {
          "output_type": "stream",
          "text": [
            "[[1 2 3]\n",
            " [4 5 6]]\n"
          ],
          "name": "stdout"
        }
      ]
    },
    {
      "cell_type": "code",
      "metadata": {
        "id": "lP2LPRuvYFTE",
        "colab": {
          "base_uri": "https://localhost:8080/"
        },
        "outputId": "0eb5b4ca-c430-4a1b-9944-e0eccc579bdd"
      },
      "source": [
        "x.shape"
      ],
      "execution_count": null,
      "outputs": [
        {
          "output_type": "execute_result",
          "data": {
            "text/plain": [
              "(2, 3)"
            ]
          },
          "metadata": {
            "tags": []
          },
          "execution_count": 100
        }
      ]
    },
    {
      "cell_type": "code",
      "metadata": {
        "id": "ZWCl-CSuYTuK",
        "colab": {
          "base_uri": "https://localhost:8080/"
        },
        "outputId": "c19d021c-2f9a-44a3-8ad7-6746e0810d99"
      },
      "source": [
        "w,h=x.shape\n",
        "print(w)\n",
        "print(h)"
      ],
      "execution_count": null,
      "outputs": [
        {
          "output_type": "stream",
          "text": [
            "2\n",
            "3\n"
          ],
          "name": "stdout"
        }
      ]
    },
    {
      "cell_type": "code",
      "metadata": {
        "id": "aKfJtRo1YbSE",
        "colab": {
          "base_uri": "https://localhost:8080/"
        },
        "outputId": "acb3b63c-bc8e-4969-efb1-03454095b450"
      },
      "source": [
        "type(x.shape)"
      ],
      "execution_count": null,
      "outputs": [
        {
          "output_type": "execute_result",
          "data": {
            "text/plain": [
              "tuple"
            ]
          },
          "metadata": {
            "tags": []
          },
          "execution_count": 102
        }
      ]
    },
    {
      "cell_type": "code",
      "metadata": {
        "id": "LC59aMtkYjBM",
        "colab": {
          "base_uri": "https://localhost:8080/"
        },
        "outputId": "8357ecbe-c378-4d9e-b3d7-a3a1d91be1df"
      },
      "source": [
        "print(np.zeros(10))"
      ],
      "execution_count": null,
      "outputs": [
        {
          "output_type": "stream",
          "text": [
            "[0. 0. 0. 0. 0. 0. 0. 0. 0. 0.]\n"
          ],
          "name": "stdout"
        }
      ]
    },
    {
      "cell_type": "code",
      "metadata": {
        "id": "Q5dlquGNYufU",
        "colab": {
          "base_uri": "https://localhost:8080/"
        },
        "outputId": "426577a7-30da-4994-e457-8fb51a452b09"
      },
      "source": [
        "print(np.ones((2,10)))"
      ],
      "execution_count": null,
      "outputs": [
        {
          "output_type": "stream",
          "text": [
            "[[1. 1. 1. 1. 1. 1. 1. 1. 1. 1.]\n",
            " [1. 1. 1. 1. 1. 1. 1. 1. 1. 1.]]\n"
          ],
          "name": "stdout"
        }
      ]
    },
    {
      "cell_type": "code",
      "metadata": {
        "id": "Qt7tagTGY5gN",
        "colab": {
          "base_uri": "https://localhost:8080/"
        },
        "outputId": "dfed9b79-45b0-4e9c-bf78-46d54bbde80c"
      },
      "source": [
        "np.random.rand(2,3)"
      ],
      "execution_count": null,
      "outputs": [
        {
          "output_type": "execute_result",
          "data": {
            "text/plain": [
              "array([[0.79986829, 0.89547425, 0.64997059],\n",
              "       [0.1721123 , 0.18075957, 0.1801905 ]])"
            ]
          },
          "metadata": {
            "tags": []
          },
          "execution_count": 105
        }
      ]
    },
    {
      "cell_type": "code",
      "metadata": {
        "id": "Ej2XCWHKZC_w",
        "colab": {
          "base_uri": "https://localhost:8080/"
        },
        "outputId": "f16cdf3e-ba25-4897-a300-d3b188fac70f"
      },
      "source": [
        "np.random.randn(10)\n",
        "#가우스 분포의 난수 생성"
      ],
      "execution_count": null,
      "outputs": [
        {
          "output_type": "execute_result",
          "data": {
            "text/plain": [
              "array([-1.27051966,  0.41411344,  0.98869431, -0.21519423,  0.5020312 ,\n",
              "       -0.04842238, -0.50396945, -0.90757887, -0.67781229, -0.48406613])"
            ]
          },
          "metadata": {
            "tags": []
          },
          "execution_count": 106
        }
      ]
    },
    {
      "cell_type": "code",
      "metadata": {
        "id": "N7IyG6Z7ZHeI",
        "colab": {
          "base_uri": "https://localhost:8080/"
        },
        "outputId": "df6a9287-66d0-4581-c86d-8014361ec38f"
      },
      "source": [
        "np.random.randint(1,5,3)\n",
        "#(low,high,size)"
      ],
      "execution_count": null,
      "outputs": [
        {
          "output_type": "execute_result",
          "data": {
            "text/plain": [
              "array([2, 3, 2])"
            ]
          },
          "metadata": {
            "tags": []
          },
          "execution_count": 107
        }
      ]
    },
    {
      "cell_type": "code",
      "metadata": {
        "id": "w0TQSXEMZW7S",
        "colab": {
          "base_uri": "https://localhost:8080/"
        },
        "outputId": "e440efb8-ce55-48b9-d287-b541a9032dae"
      },
      "source": [
        "a=np.arange(10)\n",
        "print(a)"
      ],
      "execution_count": null,
      "outputs": [
        {
          "output_type": "stream",
          "text": [
            "[0 1 2 3 4 5 6 7 8 9]\n"
          ],
          "name": "stdout"
        }
      ]
    },
    {
      "cell_type": "markdown",
      "metadata": {
        "id": "tY5vkNTJaeB_"
      },
      "source": [
        ""
      ]
    },
    {
      "cell_type": "code",
      "metadata": {
        "id": "RPXxrsGNaf4o",
        "colab": {
          "base_uri": "https://localhost:8080/"
        },
        "outputId": "e419ce61-86f6-4836-876d-10a69ff83e95"
      },
      "source": [
        "a.reshape(2,5)\n"
      ],
      "execution_count": null,
      "outputs": [
        {
          "output_type": "execute_result",
          "data": {
            "text/plain": [
              "array([[0, 1, 2, 3, 4],\n",
              "       [5, 6, 7, 8, 9]])"
            ]
          },
          "metadata": {
            "tags": []
          },
          "execution_count": 109
        }
      ]
    },
    {
      "cell_type": "code",
      "metadata": {
        "id": "IbahjWjJa6ZF",
        "colab": {
          "base_uri": "https://localhost:8080/"
        },
        "outputId": "0819d192-de6c-4596-bd6a-874a9ea13b23"
      },
      "source": [
        "x=np.array([[4,4,4],[8,8,8]])\n",
        "y=np.array([[1,1,1],[2,2,2]])\n",
        "print(x+y)"
      ],
      "execution_count": null,
      "outputs": [
        {
          "output_type": "stream",
          "text": [
            "[[ 5  5  5]\n",
            " [10 10 10]]\n"
          ],
          "name": "stdout"
        }
      ]
    },
    {
      "cell_type": "code",
      "metadata": {
        "id": "XN_6HTllbCIV",
        "colab": {
          "base_uri": "https://localhost:8080/"
        },
        "outputId": "34783ece-f5ef-44f8-b8d5-8d6622a9e5ea"
      },
      "source": [
        "print(10*x)"
      ],
      "execution_count": null,
      "outputs": [
        {
          "output_type": "stream",
          "text": [
            "[[40 40 40]\n",
            " [80 80 80]]\n"
          ],
          "name": "stdout"
        }
      ]
    },
    {
      "cell_type": "code",
      "metadata": {
        "id": "TCkT47u5bTFM",
        "colab": {
          "base_uri": "https://localhost:8080/"
        },
        "outputId": "84dc10eb-144c-4ecc-a0db-82f9f81b65ce"
      },
      "source": [
        "print(np.sqrt(x))\n",
        "print(np.log(x))\n",
        "print(np.mean(x))\n",
        "print(np.std(x))\n",
        "print(np.max(x))\n",
        "print(np.min(x))"
      ],
      "execution_count": null,
      "outputs": [
        {
          "output_type": "stream",
          "text": [
            "[[2.         2.         2.        ]\n",
            " [2.82842712 2.82842712 2.82842712]]\n",
            "[[1.38629436 1.38629436 1.38629436]\n",
            " [2.07944154 2.07944154 2.07944154]]\n",
            "6.0\n",
            "2.0\n",
            "8\n",
            "4\n"
          ],
          "name": "stdout"
        }
      ]
    },
    {
      "cell_type": "code",
      "metadata": {
        "id": "vrUtF1tfboHZ",
        "colab": {
          "base_uri": "https://localhost:8080/"
        },
        "outputId": "29696ef9-529a-4829-c57e-37d21ee938b8"
      },
      "source": [
        "v=np.array([[1,2,3],[4,5,6]])\n",
        "w=np.array([[1,1],[2,2],[3,3]])\n",
        "print(v.dot(w))"
      ],
      "execution_count": null,
      "outputs": [
        {
          "output_type": "stream",
          "text": [
            "[[14 14]\n",
            " [32 32]]\n"
          ],
          "name": "stdout"
        }
      ]
    },
    {
      "cell_type": "code",
      "metadata": {
        "id": "LD0JYGGZc1sp",
        "colab": {
          "base_uri": "https://localhost:8080/"
        },
        "outputId": "80e4b89c-baa3-4437-bd9a-8cb59068d0ff"
      },
      "source": [
        "import numpy as np\n",
        "x=np.arange(10)\n",
        "print(x)\n",
        "print(x[:5])"
      ],
      "execution_count": null,
      "outputs": [
        {
          "output_type": "stream",
          "text": [
            "[0 1 2 3 4 5 6 7 8 9]\n",
            "[0 1 2 3 4]\n"
          ],
          "name": "stdout"
        }
      ]
    },
    {
      "cell_type": "code",
      "metadata": {
        "id": "KZItXUlAeXzY",
        "colab": {
          "base_uri": "https://localhost:8080/"
        },
        "outputId": "3f4c79b1-5544-4bf8-a425-694f9290f076"
      },
      "source": [
        "print(x[5:])"
      ],
      "execution_count": null,
      "outputs": [
        {
          "output_type": "stream",
          "text": [
            "[5 6 7 8 9]\n"
          ],
          "name": "stdout"
        }
      ]
    },
    {
      "cell_type": "code",
      "metadata": {
        "id": "Lxj3f6OAemVo",
        "colab": {
          "base_uri": "https://localhost:8080/"
        },
        "outputId": "835537f9-46ff-4410-8e6e-7a10e50c215f"
      },
      "source": [
        "x=np.array([1,1,2,3,5,8,13])\n",
        "x>3"
      ],
      "execution_count": null,
      "outputs": [
        {
          "output_type": "execute_result",
          "data": {
            "text/plain": [
              "array([False, False, False, False,  True,  True,  True])"
            ]
          },
          "metadata": {
            "tags": []
          },
          "execution_count": 116
        }
      ]
    },
    {
      "cell_type": "code",
      "metadata": {
        "id": "Tlhr9_YVfW-R",
        "colab": {
          "base_uri": "https://localhost:8080/"
        },
        "outputId": "37414e85-f4c9-42c9-c2ce-f821705f166b"
      },
      "source": [
        "x[x>3]"
      ],
      "execution_count": null,
      "outputs": [
        {
          "output_type": "execute_result",
          "data": {
            "text/plain": [
              "array([ 5,  8, 13])"
            ]
          },
          "metadata": {
            "tags": []
          },
          "execution_count": 117
        }
      ]
    },
    {
      "cell_type": "code",
      "metadata": {
        "id": "wIrtdDdIfZ8G",
        "colab": {
          "base_uri": "https://localhost:8080/"
        },
        "outputId": "4f9ed231-dbd7-403b-9914-8f3fc58e3eeb"
      },
      "source": [
        "x[x>3]=999\n",
        "print(x)"
      ],
      "execution_count": null,
      "outputs": [
        {
          "output_type": "stream",
          "text": [
            "[  1   1   2   3 999 999 999]\n"
          ],
          "name": "stdout"
        }
      ]
    },
    {
      "cell_type": "code",
      "metadata": {
        "id": "hICjfyVGfg6N",
        "colab": {
          "base_uri": "https://localhost:8080/"
        },
        "outputId": "95861292-7fca-4399-cdf3-85c59d8b54b0"
      },
      "source": [
        "help(np.random.randint)"
      ],
      "execution_count": null,
      "outputs": [
        {
          "output_type": "stream",
          "text": [
            "Help on built-in function randint:\n",
            "\n",
            "randint(...) method of numpy.random.mtrand.RandomState instance\n",
            "    randint(low, high=None, size=None, dtype=int)\n",
            "    \n",
            "    Return random integers from `low` (inclusive) to `high` (exclusive).\n",
            "    \n",
            "    Return random integers from the \"discrete uniform\" distribution of\n",
            "    the specified dtype in the \"half-open\" interval [`low`, `high`). If\n",
            "    `high` is None (the default), then results are from [0, `low`).\n",
            "    \n",
            "    .. note::\n",
            "        New code should use the ``integers`` method of a ``default_rng()``\n",
            "        instance instead; please see the :ref:`random-quick-start`.\n",
            "    \n",
            "    Parameters\n",
            "    ----------\n",
            "    low : int or array-like of ints\n",
            "        Lowest (signed) integers to be drawn from the distribution (unless\n",
            "        ``high=None``, in which case this parameter is one above the\n",
            "        *highest* such integer).\n",
            "    high : int or array-like of ints, optional\n",
            "        If provided, one above the largest (signed) integer to be drawn\n",
            "        from the distribution (see above for behavior if ``high=None``).\n",
            "        If array-like, must contain integer values\n",
            "    size : int or tuple of ints, optional\n",
            "        Output shape.  If the given shape is, e.g., ``(m, n, k)``, then\n",
            "        ``m * n * k`` samples are drawn.  Default is None, in which case a\n",
            "        single value is returned.\n",
            "    dtype : dtype, optional\n",
            "        Desired dtype of the result. Byteorder must be native.\n",
            "        The default value is int.\n",
            "    \n",
            "        .. versionadded:: 1.11.0\n",
            "    \n",
            "    Returns\n",
            "    -------\n",
            "    out : int or ndarray of ints\n",
            "        `size`-shaped array of random integers from the appropriate\n",
            "        distribution, or a single such random int if `size` not provided.\n",
            "    \n",
            "    See Also\n",
            "    --------\n",
            "    random_integers : similar to `randint`, only for the closed\n",
            "        interval [`low`, `high`], and 1 is the lowest value if `high` is\n",
            "        omitted.\n",
            "    Generator.integers: which should be used for new code.\n",
            "    \n",
            "    Examples\n",
            "    --------\n",
            "    >>> np.random.randint(2, size=10)\n",
            "    array([1, 0, 0, 0, 1, 1, 0, 0, 1, 0]) # random\n",
            "    >>> np.random.randint(1, size=10)\n",
            "    array([0, 0, 0, 0, 0, 0, 0, 0, 0, 0])\n",
            "    \n",
            "    Generate a 2 x 4 array of ints between 0 and 4, inclusive:\n",
            "    \n",
            "    >>> np.random.randint(5, size=(2, 4))\n",
            "    array([[4, 0, 2, 1], # random\n",
            "           [3, 2, 2, 0]])\n",
            "    \n",
            "    Generate a 1 x 3 array with 3 different upper bounds\n",
            "    \n",
            "    >>> np.random.randint(1, [3, 5, 10])\n",
            "    array([2, 2, 9]) # random\n",
            "    \n",
            "    Generate a 1 by 3 array with 3 different lower bounds\n",
            "    \n",
            "    >>> np.random.randint([1, 5, 7], 10)\n",
            "    array([9, 8, 7]) # random\n",
            "    \n",
            "    Generate a 2 by 4 array using broadcasting with dtype of uint8\n",
            "    \n",
            "    >>> np.random.randint([1, 3, 5, 7], [[10], [20]], dtype=np.uint8)\n",
            "    array([[ 8,  6,  9,  7], # random\n",
            "           [ 1, 16,  9, 12]], dtype=uint8)\n",
            "\n"
          ],
          "name": "stdout"
        }
      ]
    },
    {
      "cell_type": "code",
      "metadata": {
        "id": "nrdFjI1sfnLq",
        "colab": {
          "base_uri": "https://localhost:8080/"
        },
        "outputId": "f5e80479-3272-4b66-fe5e-f33cc72a51a9"
      },
      "source": [
        "def my_func2(a,b):\n",
        "  c=a+b\n",
        "  return c\n",
        "my_func2(1,2)"
      ],
      "execution_count": null,
      "outputs": [
        {
          "output_type": "execute_result",
          "data": {
            "text/plain": [
              "3"
            ]
          },
          "metadata": {
            "tags": []
          },
          "execution_count": 120
        }
      ]
    },
    {
      "cell_type": "code",
      "metadata": {
        "id": "cwbkoASnf6Z6"
      },
      "source": [
        "def my_func(D):\n",
        "  m=np.mean(D)\n",
        "  s=np.std(D)\n",
        "  return m,s\n",
        "  "
      ],
      "execution_count": null,
      "outputs": []
    },
    {
      "cell_type": "code",
      "metadata": {
        "id": "VOxkLfXcgIFD",
        "colab": {
          "base_uri": "https://localhost:8080/"
        },
        "outputId": "c90556b4-cc54-4036-888b-0ec036d6cb30"
      },
      "source": [
        "data=np.random.randn(100)\n",
        "data_mean, data_std=my_func(data)\n",
        "print('mean:{0:.2f},std:{1:.2f}'.format(data_mean, data_std))"
      ],
      "execution_count": null,
      "outputs": [
        {
          "output_type": "stream",
          "text": [
            "mean:-0.11,std:1.02\n"
          ],
          "name": "stdout"
        }
      ]
    },
    {
      "cell_type": "code",
      "metadata": {
        "id": "tfP3kZyfhnUo",
        "colab": {
          "base_uri": "https://localhost:8080/"
        },
        "outputId": "0be963d6-6214-4277-f9a1-1241a8fd0039"
      },
      "source": [
        "data=np.random.randn(5)\n",
        "print(data)\n",
        "np.save('datafile.npy',data)\n",
        "data=[] #데이터 삭제 \n",
        "print(data)\n",
        "data=np.load('datafile.npy')\n",
        "print(data)"
      ],
      "execution_count": null,
      "outputs": [
        {
          "output_type": "stream",
          "text": [
            "[-0.41629084  0.59739638  0.75890615  0.39550573  1.09922654]\n",
            "[]\n",
            "[-0.41629084  0.59739638  0.75890615  0.39550573  1.09922654]\n"
          ],
          "name": "stdout"
        }
      ]
    },
    {
      "cell_type": "code",
      "metadata": {
        "id": "2_wHFAxDh0Nf",
        "colab": {
          "base_uri": "https://localhost:8080/"
        },
        "outputId": "b7b35e59-9f20-4e8d-84f4-ef346a78ee79"
      },
      "source": [
        "data1=np.array([1,2,3])\n",
        "data2=np.array([10,20,30])\n",
        "np.savez('datafile.npz',data1=data1,data2=data2) #save\n",
        "data1=[]\n",
        "data2=[] #data 삭제\n",
        "outfile=np.load('datafile.npz') #load\n",
        "print(outfile.files) #저장된 데이터 표시\n",
        "data1=outfile['data1']\n",
        "data2=outfile['data2']\n",
        "print(data1)\n",
        "print(data2)"
      ],
      "execution_count": null,
      "outputs": [
        {
          "output_type": "stream",
          "text": [
            "['data1', 'data2']\n",
            "[1 2 3]\n",
            "[10 20 30]\n"
          ],
          "name": "stdout"
        }
      ]
    },
    {
      "cell_type": "code",
      "metadata": {
        "id": "p3QwqE3vhz2r",
        "colab": {
          "base_uri": "https://localhost:8080/",
          "height": 265
        },
        "outputId": "f8c81171-82c3-4c29-82d9-0362cdea937a"
      },
      "source": [
        "#그래프 그리기 Chapter 3\n",
        "\n",
        "import numpy as np\n",
        "import matplotlib.pyplot as plt\n",
        "\n",
        "\n",
        "np.random.seed(1) #난수고정\n",
        "x=np.arange(10)\n",
        "y=np.random.rand(10)\n",
        "\n",
        "plt.plot(x,y)\n",
        "plt.show()"
      ],
      "execution_count": null,
      "outputs": [
        {
          "output_type": "display_data",
          "data": {
            "image/png": "[encoded data removed]",
            "text/plain": [
              "<Figure size 432x288 with 1 Axes>"
            ]
          },
          "metadata": {
            "tags": [],
            "needs_background": "light"
          }
        }
      ]
    },
    {
      "cell_type": "code",
      "metadata": {
        "id": "GmYSAHRrgHzo",
        "colab": {
          "base_uri": "https://localhost:8080/"
        },
        "outputId": "5b3f614f-034e-4d8f-f08c-3c2699b46b45"
      },
      "source": [
        "%reset"
      ],
      "execution_count": null,
      "outputs": [
        {
          "output_type": "stream",
          "text": [
            "Once deleted, variables cannot be recovered. Proceed (y/[n])? n\n",
            "Nothing done.\n"
          ],
          "name": "stdout"
        }
      ]
    },
    {
      "cell_type": "code",
      "metadata": {
        "id": "OWCAijOss5HJ"
      },
      "source": [
        "import numpy as np\n",
        "import matplotlib.pyplot as plt\n",
        "\n",
        "def f(x):\n",
        "  return (x-2)*x*(x+2)"
      ],
      "execution_count": null,
      "outputs": []
    },
    {
      "cell_type": "code",
      "metadata": {
        "id": "A_SeOhhgs6nP",
        "colab": {
          "base_uri": "https://localhost:8080/"
        },
        "outputId": "976367ec-f0b2-4853-b1dd-be32ae67d14f"
      },
      "source": [
        "print(f(1))"
      ],
      "execution_count": null,
      "outputs": [
        {
          "output_type": "stream",
          "text": [
            "-3\n"
          ],
          "name": "stdout"
        }
      ]
    },
    {
      "cell_type": "code",
      "metadata": {
        "id": "0v4RMlU9tNus",
        "colab": {
          "base_uri": "https://localhost:8080/"
        },
        "outputId": "3472f078-5630-4826-b1e6-ea5fb44c3cc7"
      },
      "source": [
        "print(f(np.array([1,2,3])))"
      ],
      "execution_count": null,
      "outputs": [
        {
          "output_type": "stream",
          "text": [
            "[-3  0 15]\n"
          ],
          "name": "stdout"
        }
      ]
    },
    {
      "cell_type": "code",
      "metadata": {
        "id": "nzWCVTHRtfhl",
        "colab": {
          "base_uri": "https://localhost:8080/"
        },
        "outputId": "517af7a8-8907-4e9e-f3b9-ffafa6e89c7e"
      },
      "source": [
        "x=np.arange(-3,3.5,0.5)\n",
        "print(x)"
      ],
      "execution_count": null,
      "outputs": [
        {
          "output_type": "stream",
          "text": [
            "[-3.  -2.5 -2.  -1.5 -1.  -0.5  0.   0.5  1.   1.5  2.   2.5  3. ]\n"
          ],
          "name": "stdout"
        }
      ]
    },
    {
      "cell_type": "code",
      "metadata": {
        "id": "BCoJh2IZuA08",
        "colab": {
          "base_uri": "https://localhost:8080/"
        },
        "outputId": "92c7df66-8d8c-4448-d749-a666a0e06c44"
      },
      "source": [
        "x=np.linspace(-3,3,10)\n",
        "print(np.round(x,2))"
      ],
      "execution_count": null,
      "outputs": [
        {
          "output_type": "stream",
          "text": [
            "[-3.   -2.33 -1.67 -1.   -0.33  0.33  1.    1.67  2.33  3.  ]\n"
          ],
          "name": "stdout"
        }
      ]
    },
    {
      "cell_type": "code",
      "metadata": {
        "id": "wBCP-80ruGIo",
        "colab": {
          "base_uri": "https://localhost:8080/",
          "height": 265
        },
        "outputId": "560a7217-8ac5-4d58-8904-106f0653c7bc"
      },
      "source": [
        "plt.plot(x,f(x))\n",
        "plt.show()"
      ],
      "execution_count": null,
      "outputs": [
        {
          "output_type": "display_data",
          "data": {
            "image/png": "[encoded data removed]",
            "text/plain": [
              "<Figure size 432x288 with 1 Axes>"
            ]
          },
          "metadata": {
            "tags": [],
            "needs_background": "light"
          }
        }
      ]
    },
    {
      "cell_type": "code",
      "metadata": {
        "id": "-E4wYJYiuPDT",
        "colab": {
          "base_uri": "https://localhost:8080/",
          "height": 297
        },
        "outputId": "f00383c0-690b-4e9b-e0da-1d76c3684ee0"
      },
      "source": [
        "def f2(x,w):\n",
        "  return (x-w)*x*(x+2)\n",
        "\n",
        "x=np.linspace(-3,3,100)\n",
        "\n",
        "plt.plot(x, f2(x,2), color='black', label='$w=2$')\n",
        "plt.plot(x, f2(x,1), color='cornflowerblue',\n",
        "         label='$w=1$')\n",
        "plt.legend(loc=\"upper left\")\n",
        "plt.ylim(-15,15)\n",
        "plt.title('$f_2(x)$')\n",
        "plt.xlabel('$x$')\n",
        "plt.ylabel('$y$')\n",
        "plt.grid(True)\n",
        "plt.show()"
      ],
      "execution_count": null,
      "outputs": [
        {
          "output_type": "display_data",
          "data": {
            "image/png": "[encoded data removed]",
            "text/plain": [
              "<Figure size 432x288 with 1 Axes>"
            ]
          },
          "metadata": {
            "tags": [],
            "needs_background": "light"
          }
        }
      ]
    },
    {
      "cell_type": "code",
      "metadata": {
        "id": "BTh8Uqq2uTCt"
      },
      "source": [
        "from sklearn.datasets import fetch_openml\n",
        "\n",
        "X, y = fetch_openml('mnist_784',version=1, return_X_y=True)"
      ],
      "execution_count": null,
      "outputs": []
    },
    {
      "cell_type": "code",
      "metadata": {
        "id": "ckgIU5gGC6GC",
        "colab": {
          "base_uri": "https://localhost:8080/"
        },
        "outputId": "7620e337-5f69-4b9f-8a56-762c92d9b103"
      },
      "source": [
        "import numpy as np\n",
        "from sklearn.datasets import fetch_openml\n",
        "#데이터불러오기\n",
        "X, y = fetch_openml('mnist_784' , version=1, return_X_y=True)\n",
        "#uint로 변환\n",
        "X = X.astype(np.uint8)\n",
        "y = y.astype(np.uint8)\n",
        "#데이터 분리\n",
        "x_train = X[:60000]\n",
        "t_train = y[:60000]\n",
        "x_test = X[60000:]\n",
        "t_test = y[60000:]\n",
        "\n",
        "print(x_train.shape)\n",
        "print(t_train.shape)\n",
        "print(x_test.shape)\n",
        "print(t_test.shape)\n"
      ],
      "execution_count": null,
      "outputs": [
        {
          "output_type": "stream",
          "text": [
            "(60000, 784)\n",
            "(60000,)\n",
            "(10000, 784)\n",
            "(10000,)\n"
          ],
          "name": "stdout"
        }
      ]
    },
    {
      "cell_type": "code",
      "metadata": {
        "id": "57NU0eFUDhuP",
        "colab": {
          "base_uri": "https://localhost:8080/"
        },
        "outputId": "4f1053c4-dcaf-47fb-82ca-5f47105f239a"
      },
      "source": [
        "from google.colab import drive\n",
        "drive.mount('/content/drive')"
      ],
      "execution_count": null,
      "outputs": [
        {
          "output_type": "stream",
          "text": [
            "Drive already mounted at /content/drive; to attempt to forcibly remount, call drive.mount(\"/content/drive\", force_remount=True).\n"
          ],
          "name": "stdout"
        }
      ]
    },
    {
      "cell_type": "code",
      "metadata": {
        "id": "hiWNBBK-D6T1",
        "colab": {
          "base_uri": "https://localhost:8080/",
          "height": 319
        },
        "outputId": "317b9b42-2ca4-49f8-cd39-1df525eb2437"
      },
      "source": [
        "import numpy as np\n",
        "import matplotlib.pyplot as plt\n",
        "import matplotlib.image as mpimg\n",
        "img = x_train[3]\n",
        "label = t_train[3]\n",
        "print(label)\n",
        "#아직1차원 array\n",
        "print(img.shape)\n",
        "#2차원 array로\n",
        "img = img.reshape(28, 28)\n",
        "print(img.shape)\n",
        "#colormap\n",
        "plt.imshow(img, cmap='gray')\n",
        "plt.show()\n"
      ],
      "execution_count": null,
      "outputs": [
        {
          "output_type": "stream",
          "text": [
            "1\n",
            "(784,)\n",
            "(28, 28)\n"
          ],
          "name": "stdout"
        },
        {
          "output_type": "display_data",
          "data": {
            "image/png": "[encoded data removed]",
            "text/plain": [
              "<Figure size 432x288 with 1 Axes>"
            ]
          },
          "metadata": {
            "tags": [],
            "needs_background": "light"
          }
        }
      ]
    },
    {
      "cell_type": "code",
      "metadata": {
        "colab": {
          "base_uri": "https://localhost:8080/",
          "height": 594
        },
        "id": "HcYn1_1VE-OK",
        "outputId": "1951e653-8c6c-4edb-9f25-86252833522c"
      },
      "source": [
        "img_count = 5*4\n",
        "\n",
        "fig = plt.figure( figsize = (10,10))\n",
        "indices = np.random.choice( x_train.shape[0], img_count )\n",
        "\n",
        "imgs = x_train[ indices ]\n",
        "labels = t_train[ indices ]\n",
        "for i in range(img_count):\n",
        "  ax = fig.add_subplot(5, 4, i+1)\n",
        "  ax.set_title( labels[i] )\n",
        "  ax.set_xticks([])\n",
        "  ax.set_yticks([])\n",
        "  ax.imshow(imgs[i].reshape(28,28), cmap='gray')\n",
        "plt.show()\n"
      ],
      "execution_count": null,
      "outputs": [
        {
          "output_type": "display_data",
          "data": {
            "image/png": "[encoded data removed]",
            "text/plain": [
              "<Figure size 720x720 with 20 Axes>"
            ]
          },
          "metadata": {
            "tags": []
          }
        }
      ]
    },
    {
      "cell_type": "code",
      "metadata": {
        "colab": {
          "base_uri": "https://localhost:8080/"
        },
        "id": "b5ONDLjeGfK-",
        "outputId": "09219adf-a9a8-4808-ad26-66fea32792ed"
      },
      "source": [
        "!wget -O sample_weights.pkl https://bit.ly/2nsrh3M\n"
      ],
      "execution_count": null,
      "outputs": [
        {
          "output_type": "stream",
          "text": [
            "--2021-03-04 06:09:05--  https://bit.ly/2nsrh3M\n",
            "Resolving bit.ly (bit.ly)... 67.199.248.11, 67.199.248.10\n",
            "Connecting to bit.ly (bit.ly)|67.199.248.11|:443... connected.\n",
            "HTTP request sent, awaiting response... 301 Moved Permanently\n",
            "Location: https://ycs-class.s3.ap-northeast-2.amazonaws.com/dataset/sample_weight.pkl [following]\n",
            "--2021-03-04 06:09:05--  https://ycs-class.s3.ap-northeast-2.amazonaws.com/dataset/sample_weight.pkl\n",
            "Resolving ycs-class.s3.ap-northeast-2.amazonaws.com (ycs-class.s3.ap-northeast-2.amazonaws.com)... 52.219.146.31\n",
            "Connecting to ycs-class.s3.ap-northeast-2.amazonaws.com (ycs-class.s3.ap-northeast-2.amazonaws.com)|52.219.146.31|:443... connected.\n",
            "HTTP request sent, awaiting response... 200 OK\n",
            "Length: 181853 (178K) [binary/octet-stream]\n",
            "Saving to: ‘sample_weights.pkl’\n",
            "\n",
            "sample_weights.pkl  100%[===================>] 177.59K   319KB/s    in 0.6s    \n",
            "\n",
            "2021-03-04 06:09:06 (319 KB/s) - ‘sample_weights.pkl’ saved [181853/181853]\n",
            "\n"
          ],
          "name": "stdout"
        }
      ]
    },
    {
      "cell_type": "code",
      "metadata": {
        "id": "PlDx-bSEILZe"
      },
      "source": [
        "import pickle\n",
        "def get_data():\n",
        "  return x_test / 255, t_test\n",
        "def init_network():\n",
        "  with open('sample_weights.pkl', 'rb') as f:\n",
        "    network = pickle.load(f)\n",
        "  return network\n",
        "def predict(network, x):\n",
        "  W1, W2, W3 = network['W1'], network['W2'], network['W3']\n",
        "  b1, b2, b3 = network['b1'], network['b2'], network['b3']\n",
        "  a1 = np.dot(x, W1) + b1\n",
        "  z1 = sigmoid(a1)\n",
        "  a2 = np.dot(z1, W2) + b2\n",
        "  z2 = sigmoid(a2)\n",
        "  a3 = np.dot(z2, W3) + b3\n",
        "  y = softmax(a3)\n",
        "  return y"
      ],
      "execution_count": null,
      "outputs": []
    },
    {
      "cell_type": "code",
      "metadata": {
        "colab": {
          "base_uri": "https://localhost:8080/",
          "height": 370
        },
        "id": "RKtf11H9Idgs",
        "outputId": "142bf338-0f09-4cfc-f271-2a4d425e08ab"
      },
      "source": [
        "x, t = get_data()\n",
        "network = init_network()\n",
        "\n",
        "accuracy_count = 0\n",
        "\n",
        "for i in range(len(x)):\n",
        "  y = predict(network, x[i])\n",
        "  p = np.argmax(y)\n",
        "  if p == t[i]:\n",
        "    accuracy_count += 1\n",
        "print( 'Accuracy: {}'.format(accuracy_count / len(x) ) )"
      ],
      "execution_count": null,
      "outputs": [
        {
          "output_type": "error",
          "ename": "NameError",
          "evalue": "ignored",
          "traceback": [
            "\u001b[0;31m---------------------------------------------------------------------------\u001b[0m",
            "\u001b[0;31mNameError\u001b[0m                                 Traceback (most recent call last)",
            "\u001b[0;32m<ipython-input-141-46d3ac55eea4>\u001b[0m in \u001b[0;36m<module>\u001b[0;34m()\u001b[0m\n\u001b[1;32m      5\u001b[0m \u001b[0;34m\u001b[0m\u001b[0m\n\u001b[1;32m      6\u001b[0m \u001b[0;32mfor\u001b[0m \u001b[0mi\u001b[0m \u001b[0;32min\u001b[0m \u001b[0mrange\u001b[0m\u001b[0;34m(\u001b[0m\u001b[0mlen\u001b[0m\u001b[0;34m(\u001b[0m\u001b[0mx\u001b[0m\u001b[0;34m)\u001b[0m\u001b[0;34m)\u001b[0m\u001b[0;34m:\u001b[0m\u001b[0;34m\u001b[0m\u001b[0;34m\u001b[0m\u001b[0m\n\u001b[0;32m----> 7\u001b[0;31m   \u001b[0my\u001b[0m \u001b[0;34m=\u001b[0m \u001b[0mpredict\u001b[0m\u001b[0;34m(\u001b[0m\u001b[0mnetwork\u001b[0m\u001b[0;34m,\u001b[0m \u001b[0mx\u001b[0m\u001b[0;34m[\u001b[0m\u001b[0mi\u001b[0m\u001b[0;34m]\u001b[0m\u001b[0;34m)\u001b[0m\u001b[0;34m\u001b[0m\u001b[0;34m\u001b[0m\u001b[0m\n\u001b[0m\u001b[1;32m      8\u001b[0m   \u001b[0mp\u001b[0m \u001b[0;34m=\u001b[0m \u001b[0mnp\u001b[0m\u001b[0;34m.\u001b[0m\u001b[0margmax\u001b[0m\u001b[0;34m(\u001b[0m\u001b[0my\u001b[0m\u001b[0;34m)\u001b[0m\u001b[0;34m\u001b[0m\u001b[0;34m\u001b[0m\u001b[0m\n\u001b[1;32m      9\u001b[0m   \u001b[0;32mif\u001b[0m \u001b[0mp\u001b[0m \u001b[0;34m==\u001b[0m \u001b[0mt\u001b[0m\u001b[0;34m[\u001b[0m\u001b[0mi\u001b[0m\u001b[0;34m]\u001b[0m\u001b[0;34m:\u001b[0m\u001b[0;34m\u001b[0m\u001b[0;34m\u001b[0m\u001b[0m\n",
            "\u001b[0;32m<ipython-input-140-18ea1487ee66>\u001b[0m in \u001b[0;36mpredict\u001b[0;34m(network, x)\u001b[0m\n\u001b[1;32m     10\u001b[0m   \u001b[0mb1\u001b[0m\u001b[0;34m,\u001b[0m \u001b[0mb2\u001b[0m\u001b[0;34m,\u001b[0m \u001b[0mb3\u001b[0m \u001b[0;34m=\u001b[0m \u001b[0mnetwork\u001b[0m\u001b[0;34m[\u001b[0m\u001b[0;34m'b1'\u001b[0m\u001b[0;34m]\u001b[0m\u001b[0;34m,\u001b[0m \u001b[0mnetwork\u001b[0m\u001b[0;34m[\u001b[0m\u001b[0;34m'b2'\u001b[0m\u001b[0;34m]\u001b[0m\u001b[0;34m,\u001b[0m \u001b[0mnetwork\u001b[0m\u001b[0;34m[\u001b[0m\u001b[0;34m'b3'\u001b[0m\u001b[0;34m]\u001b[0m\u001b[0;34m\u001b[0m\u001b[0;34m\u001b[0m\u001b[0m\n\u001b[1;32m     11\u001b[0m   \u001b[0ma1\u001b[0m \u001b[0;34m=\u001b[0m \u001b[0mnp\u001b[0m\u001b[0;34m.\u001b[0m\u001b[0mdot\u001b[0m\u001b[0;34m(\u001b[0m\u001b[0mx\u001b[0m\u001b[0;34m,\u001b[0m \u001b[0mW1\u001b[0m\u001b[0;34m)\u001b[0m \u001b[0;34m+\u001b[0m \u001b[0mb1\u001b[0m\u001b[0;34m\u001b[0m\u001b[0;34m\u001b[0m\u001b[0m\n\u001b[0;32m---> 12\u001b[0;31m   \u001b[0mz1\u001b[0m \u001b[0;34m=\u001b[0m \u001b[0msigmoid\u001b[0m\u001b[0;34m(\u001b[0m\u001b[0ma1\u001b[0m\u001b[0;34m)\u001b[0m\u001b[0;34m\u001b[0m\u001b[0;34m\u001b[0m\u001b[0m\n\u001b[0m\u001b[1;32m     13\u001b[0m   \u001b[0ma2\u001b[0m \u001b[0;34m=\u001b[0m \u001b[0mnp\u001b[0m\u001b[0;34m.\u001b[0m\u001b[0mdot\u001b[0m\u001b[0;34m(\u001b[0m\u001b[0mz1\u001b[0m\u001b[0;34m,\u001b[0m \u001b[0mW2\u001b[0m\u001b[0;34m)\u001b[0m \u001b[0;34m+\u001b[0m \u001b[0mb2\u001b[0m\u001b[0;34m\u001b[0m\u001b[0;34m\u001b[0m\u001b[0m\n\u001b[1;32m     14\u001b[0m   \u001b[0mz2\u001b[0m \u001b[0;34m=\u001b[0m \u001b[0msigmoid\u001b[0m\u001b[0;34m(\u001b[0m\u001b[0ma2\u001b[0m\u001b[0;34m)\u001b[0m\u001b[0;34m\u001b[0m\u001b[0;34m\u001b[0m\u001b[0m\n",
            "\u001b[0;31mNameError\u001b[0m: name 'sigmoid' is not defined"
          ]
        }
      ]
    },
    {
      "cell_type": "code",
      "metadata": {
        "id": "Y4Zgy4OrJmhi"
      },
      "source": [
        "def step_function(x):\n",
        "  if x > 0:\n",
        "    return 1\n",
        "  else:\n",
        "    return 0"
      ],
      "execution_count": null,
      "outputs": []
    },
    {
      "cell_type": "code",
      "metadata": {
        "id": "PITS4OcKJ3bL"
      },
      "source": [
        "def sigmoid(x):\n",
        "  return 1 / (1 + np.exp(-x))"
      ],
      "execution_count": null,
      "outputs": []
    },
    {
      "cell_type": "code",
      "metadata": {
        "id": "fPs4bCPKKBTT"
      },
      "source": [
        "def relu(x):\n",
        "  return np.maximum(0, x)"
      ],
      "execution_count": null,
      "outputs": []
    },
    {
      "cell_type": "code",
      "metadata": {
        "id": "Ha-fjtnHKH0e"
      },
      "source": [
        "def softmax(a):\n",
        "  c = np.max(a)\n",
        "  exp_a = np.exp(a - c)\n",
        "  sum_exp_a = np.sum(exp_a)\n",
        "  y = exp_a / sum_exp_a\n",
        "  return y"
      ],
      "execution_count": null,
      "outputs": []
    },
    {
      "cell_type": "code",
      "metadata": {
        "id": "BvhdpcCkKPKK"
      },
      "source": [
        "x, _ = get_data()\n",
        "network = init_network()\n",
        "W1, W2, W3 = network['W1'], network['W2'], network['W3']\n",
        "print(x.shape)\n",
        "print(x[0].shape)\n",
        "print(W1.shape)\n",
        "print(W2.shape)\n",
        "print(W3.shape)"
      ],
      "execution_count": null,
      "outputs": []
    },
    {
      "cell_type": "code",
      "metadata": {
        "id": "Lg3b2CpGLqK_"
      },
      "source": [
        "x, t = get_data()\n",
        "network = init_network()\n",
        "batch_size = 100 # 배치 크기\n",
        "accuracy_count = 0\n",
        "for i in range(0, len(x), batch_size):\n",
        "  #데이터 슬라이싱\n",
        "  x_batch = x[i:i+batch_size]\n",
        "  #y_batch shape = (100,10),x_batch shape = (100,784)\n",
        "  y_batch = predict(network, x_batch)\n",
        "  p = np.argmax(y_batch, axis=1)\n",
        "# print(p)\n",
        "# print( t[i:i+batch_size] )\n",
        "  accuracy_count += np.sum( p == t[i:i+batch_size] )\n",
        "print( 'Accuracy: {}'.format(accuracy_count / len(x) ) )"
      ],
      "execution_count": null,
      "outputs": []
    },
    {
      "cell_type": "code",
      "metadata": {
        "id": "Vk00kD0PNJlS"
      },
      "source": [
        ""
      ],
      "execution_count": null,
      "outputs": []
    },
    {
      "cell_type": "markdown",
      "metadata": {
        "id": "BbeGmHjEmsxE"
      },
      "source": [
        "#신경망 학습"
      ]
    },
    {
      "cell_type": "markdown",
      "metadata": {
        "id": "erHkV8QTmxP9"
      },
      "source": [
        "#-MSE(mean squared error) 회구 문제 손실 **함수**"
      ]
    },
    {
      "cell_type": "code",
      "metadata": {
        "id": "OziOHjvIm6qE"
      },
      "source": [
        "import numpy as np\n",
        "def mse_loss( y_hat, y ): \n",
        "  return np.mean( (y - y_hat)**2 )"
      ],
      "execution_count": null,
      "outputs": []
    },
    {
      "cell_type": "code",
      "metadata": {
        "id": "V9yb4sMtnVI8"
      },
      "source": [
        "y = np.random.random( 4 )\n",
        "y_hat = np.random.random( 4 )\n",
        "print(y)\n",
        "print(y_hat)\n",
        "print('loss =', mse_loss( y_hat, y ))"
      ],
      "execution_count": null,
      "outputs": []
    },
    {
      "cell_type": "markdown",
      "metadata": {
        "id": "ov_w9wSVnoN9"
      },
      "source": [
        "# Cross-Entropy 분류 문제 손실 함수"
      ]
    },
    {
      "cell_type": "markdown",
      "metadata": {
        "id": "yuNfKytIwS3w"
      },
      "source": [
        "$L = -y \\cdot log(\\hat y)$"
      ]
    },
    {
      "cell_type": "code",
      "metadata": {
        "id": "rciEJW_KnhG_"
      },
      "source": [
        "import numpy as np\n",
        "def ce_loss( y_hat, y ):\n",
        "  delta = 1e-7\n",
        "  return - np.sum( y * np.log(y_hat + delta) )"
      ],
      "execution_count": null,
      "outputs": []
    },
    {
      "cell_type": "code",
      "metadata": {
        "id": "wJV1G3U7nzId"
      },
      "source": [
        "y_hat = np.array( [0.1, 0.05, 0.6, 0.0, 0.05, 0.1, 0.0, 0.1, 0.0, 0.] )\n",
        "y = np.array( [0, 0, 1, 0, 0, 0, 0, 0, 0, 0] )\n",
        "ce_loss( y_hat, y )"
      ],
      "execution_count": null,
      "outputs": []
    },
    {
      "cell_type": "code",
      "metadata": {
        "id": "v5n7N2AGn3uP"
      },
      "source": [
        ""
      ],
      "execution_count": null,
      "outputs": []
    },
    {
      "cell_type": "markdown",
      "metadata": {
        "id": "J_XljYzyoJSX"
      },
      "source": [
        "#Mini batch 학습 "
      ]
    },
    {
      "cell_type": "code",
      "metadata": {
        "id": "1pVOjVEaoLWT"
      },
      "source": [
        "from sklearn.datasets import fetch_openml\n",
        "X, y = fetch_openml('mnist_784', version=1, return_X_y=True)\n",
        "X = X.astype(np.uint8) / 255 # 0~255 를 0~1.0으로 정규화\n",
        "y = y.astype(np.uint8)\n",
        "# one-hot encoding\n",
        "y = np.eye(10)[y]\n",
        "x_train = X[:60000]\n",
        "x_test = X[60000:]\n",
        "y_train = y[:60000]\n",
        "y_test = y[60000:]\n",
        "print(x_train.shape)\n",
        "print(y_train.shape)\n",
        "print(x_test.shape)\n",
        "print(y_test.shape)"
      ],
      "execution_count": null,
      "outputs": []
    },
    {
      "cell_type": "code",
      "metadata": {
        "id": "e6qiVZ4uoPoq"
      },
      "source": [
        "train_size = x_train.shape[0]\n",
        "#mini batch code\n",
        "batch_size = 10\n",
        "batch_mask = np.random.choice(train_size, batch_size)\n",
        "x_batch = x_train[batch_mask]\n",
        "y_batch = y_train[batch_mask]"
      ],
      "execution_count": null,
      "outputs": []
    },
    {
      "cell_type": "code",
      "metadata": {
        "id": "LV5j_PWnoU3V"
      },
      "source": [
        "np.random.choice(60000, 10)"
      ],
      "execution_count": null,
      "outputs": []
    },
    {
      "cell_type": "markdown",
      "metadata": {
        "id": "YM8aP3kpoesU"
      },
      "source": [
        "#미니 배치용 Cross-entropy 구현"
      ]
    },
    {
      "cell_type": "code",
      "metadata": {
        "id": "GaLiZvqvocfy"
      },
      "source": [
        "def ce_loss( y_hat, y ):\n",
        "  if y_hat.ndim == 1:\n",
        "    y = y.reshape(1, y.size)\n",
        "    y_hat = y_hat.reshape(1, y_hat.size)\n",
        "  batch_size = y_hat.shape[0]\n",
        "  #배치 크기로 나누어 이미지 1장당 평균 LOSS 계산\n",
        "  return - np.sum( y * np.log(y_hat + 1e-7)) / batch_size"
      ],
      "execution_count": null,
      "outputs": []
    },
    {
      "cell_type": "code",
      "metadata": {
        "id": "WYM4dvvtonEs"
      },
      "source": [
        ""
      ],
      "execution_count": null,
      "outputs": []
    },
    {
      "cell_type": "markdown",
      "metadata": {
        "id": "xi1isYMWpcnY"
      },
      "source": [
        "##수치 미분"
      ]
    },
    {
      "cell_type": "code",
      "metadata": {
        "id": "kxglZrPkpeN9"
      },
      "source": [
        "def num_diff(f, x):\n",
        "  h = 1e-4\n",
        "  return (f(x + h) - f(x)) / h"
      ],
      "execution_count": null,
      "outputs": []
    },
    {
      "cell_type": "code",
      "metadata": {
        "id": "CIQyK4o2pkFN"
      },
      "source": [
        ""
      ],
      "execution_count": null,
      "outputs": []
    },
    {
      "cell_type": "markdown",
      "metadata": {
        "id": "pLvEix5Pppv4"
      },
      "source": [
        "예시"
      ]
    },
    {
      "cell_type": "code",
      "metadata": {
        "id": "i9mmbySMpqdE"
      },
      "source": [
        "def function_1(x):\n",
        "  return 0.01 * x ** 2 + 0.1 * x"
      ],
      "execution_count": null,
      "outputs": []
    },
    {
      "cell_type": "code",
      "metadata": {
        "id": "CrG4MQvipten"
      },
      "source": [
        "import numpy as np\n",
        "import matplotlib.pyplot as plt\n",
        "%matplotlib inline\n",
        "x = np.arange(0.0, 20.0, 0.1)\n",
        "y = function_1(x)\n",
        "plt.xlabel('x')\n",
        "plt.ylabel('f(x)')\n",
        "plt.plot(x, y)\n",
        "plt.show()"
      ],
      "execution_count": null,
      "outputs": []
    },
    {
      "cell_type": "code",
      "metadata": {
        "id": "tudtJqXVpvdG"
      },
      "source": [
        "print(num_diff( function_1, 5 ))\n",
        "print(num_diff( function_1, 10 ))\n",
        "\n",
        "#참 값:: 0.2, 0,3\n"
      ],
      "execution_count": null,
      "outputs": []
    },
    {
      "cell_type": "code",
      "metadata": {
        "id": "N7xAgVEip256"
      },
      "source": [
        ""
      ],
      "execution_count": null,
      "outputs": []
    },
    {
      "cell_type": "markdown",
      "metadata": {
        "id": "aIbHNXM0q9CS"
      },
      "source": [
        "#편미분"
      ]
    },
    {
      "cell_type": "markdown",
      "metadata": {
        "id": "7D8PIr0TrO8u"
      },
      "source": [
        "$f(x_0,x_1) = x_0^2+x_1^2,(3,4)$"
      ]
    },
    {
      "cell_type": "code",
      "metadata": {
        "id": "2j4F-AK5q-Ev"
      },
      "source": [
        "def function_temp1(x0):\n",
        "  return x0 * x0 + 4.0 ** 2\n",
        "num_diff( function_temp1, 3.0 )"
      ],
      "execution_count": null,
      "outputs": []
    },
    {
      "cell_type": "code",
      "metadata": {
        "id": "k9OXY2QnrK5x"
      },
      "source": [
        "def function_temp2(x1):\n",
        "  return 3.0 ** 2 + x1 * x1\n",
        "num_diff( function_temp2, 4.0 )"
      ],
      "execution_count": null,
      "outputs": []
    },
    {
      "cell_type": "code",
      "metadata": {
        "id": "dRN7KO5cw3qg"
      },
      "source": [
        ""
      ],
      "execution_count": null,
      "outputs": []
    },
    {
      "cell_type": "markdown",
      "metadata": {
        "id": "HN__HgGRw4Qc"
      },
      "source": [
        "#Gradient"
      ]
    },
    {
      "cell_type": "code",
      "metadata": {
        "id": "6gVHaRFPrNGb"
      },
      "source": [
        "def num_grad(f, x):\n",
        "  h = 1e-4\n",
        "  grad = np.zeros_like(x) # x와 형상이 같고 원소가 모두 0인 배열 생성\n",
        "\n",
        "  for idx in range(x.size):\n",
        "   # 기존 x 값을 보관\n",
        "    temp = x[idx]\n",
        "  # f(x+h) 계산\n",
        "    x[idx] = temp + h\n",
        "    fxh1 = f(x)\n",
        "  # f(x-h) 계산\n",
        "    x[idx] = temp - h\n",
        "    fxh2 = f(x) \n",
        "\n",
        "  # 그리고 기울기 계산\n",
        "    grad[idx] = (fxh1 - fxh2) / (2*h)\n",
        "  # 다시 x를 원래대로\n",
        "    x[idx] = temp\n",
        "  return grad"
      ],
      "execution_count": null,
      "outputs": []
    },
    {
      "cell_type": "code",
      "metadata": {
        "id": "XjzIxcQkw6c_"
      },
      "source": [
        "print( num_grad( function_2, np.array([3.0, 4.0]) ) )"
      ],
      "execution_count": null,
      "outputs": []
    },
    {
      "cell_type": "code",
      "metadata": {
        "id": "xhP0BxeHxKr0"
      },
      "source": [
        ""
      ],
      "execution_count": null,
      "outputs": []
    },
    {
      "cell_type": "markdown",
      "metadata": {
        "id": "8AqBixb1xNut"
      },
      "source": [
        "#Gradient Decent"
      ]
    },
    {
      "cell_type": "code",
      "metadata": {
        "id": "mcLqO4tfxOxd"
      },
      "source": [
        ""
      ],
      "execution_count": null,
      "outputs": []
    },
    {
      "cell_type": "markdown",
      "metadata": {
        "id": "ChcWcJjJxPZX"
      },
      "source": [
        "$x_0=x_0-\\eta \\frac{\\partial f}{\\partial x_0}$\n",
        "$,x_1=x_1-\\eta \\frac{\\partial f}{\\partial x_1}$"
      ]
    },
    {
      "cell_type": "markdown",
      "metadata": {
        "id": "e7tc2x71yd1L"
      },
      "source": [
        "f: 최적화하려는 함수\n",
        "\n",
        "init_x: 초깃값\n",
        "\n",
        "lr: 학습률\n",
        "\n",
        "step_num: 반복 횟수"
      ]
    },
    {
      "cell_type": "code",
      "metadata": {
        "id": "TphIHED4xdCo"
      },
      "source": [
        "def gd( f, init_x, lr=0.01, step_num=100 ):\n",
        " x = init_x\n",
        "\n",
        " for i in range(step_num):\n",
        "    grad = num_grad(f, x)\n",
        "    x -= lr * grad\n",
        "\n",
        "    plt.scatter(x[0], x[1])\n",
        " return x\n"
      ],
      "execution_count": null,
      "outputs": []
    },
    {
      "cell_type": "code",
      "metadata": {
        "id": "2qxoEIQ5x1BS"
      },
      "source": [
        "#변수가 2개인 예시\n",
        "def function_2(x):\n",
        "  return x[0]**2 + x[1]**2\n",
        "\n",
        "init_x = np.array([-3.0, 4.0])\n",
        "\n",
        "plt.xlim(-5, 5)\n",
        "plt.ylim(-5, 5)\n",
        "\n",
        "result = gd( function_2, init_x=init_x, lr=0.1, step_num=100 )\n",
        "\n",
        "print(result)\n",
        "\n",
        "plt.show()\n"
      ],
      "execution_count": null,
      "outputs": []
    },
    {
      "cell_type": "code",
      "metadata": {
        "id": "MJYdBIHYyxqc"
      },
      "source": [
        "#learning rate 너무 크게\n",
        "init_x = np.array([-3.0, 4.0])\n",
        "gd( function_2, init_x=init_x, lr=10.0, step_num=100 )"
      ],
      "execution_count": null,
      "outputs": []
    },
    {
      "cell_type": "code",
      "metadata": {
        "id": "mYG2k7_V1X3d"
      },
      "source": [
        "#learning rate 너무 자게\n",
        "init_x = np.array([-3.0, 4.0])\n",
        "gd( function_2, init_x=init_x, lr=1e-6, step_num=100 )\n"
      ],
      "execution_count": null,
      "outputs": []
    },
    {
      "cell_type": "markdown",
      "metadata": {
        "id": "ReKOFy8n1nXJ"
      },
      "source": [
        "#Hyperparameter - 사용자가 직접 수동으로 설정해주는 값"
      ]
    },
    {
      "cell_type": "markdown",
      "metadata": {
        "id": "ivUZiIvA1tlj"
      },
      "source": [
        "SimpleNet"
      ]
    },
    {
      "cell_type": "code",
      "metadata": {
        "id": "8a7A_Mqw1xqS"
      },
      "source": [
        "class SimpleNet:\n",
        "  def __init__(self):\n",
        "    self.W = np.random.randn(2,3)\n",
        "\n",
        "  def predict(self, x):\n",
        "    return softmax( np.dot(x, self.W) )\n",
        "\n",
        "  def loss(self, x, y):\n",
        "    y_hat = self.predict(x)\n",
        "    loss = ce_loss(y_hat, y)\n",
        "  \n",
        "    return loss\n",
        "  \n",
        "  def num_grad(self, x, y):\n",
        "    h = 1e-4\n",
        "    grad = np.zeros_like( self.W )\n",
        "\n",
        "    for idx, val in np.ndenumerate( self.W ):\n",
        "      temp = self.W[idx]\n",
        "      self.W[idx] = temp + h\n",
        "      fxh1 = self.loss(x, y)\n",
        "      self.W[idx] = temp - h\n",
        "      fxh2 = self.loss(x, y)\n",
        "      \n",
        "      grad[idx] = (fxh1 - fxh2) / (2*h)\n",
        "      \n",
        "      self.W[idx] = temp\n",
        "      \n",
        "    return grad\n"
      ],
      "execution_count": null,
      "outputs": []
    },
    {
      "cell_type": "code",
      "metadata": {
        "colab": {
          "base_uri": "https://localhost:8080/"
        },
        "id": "LP4274tD2PKA",
        "outputId": "c8788ecf-d4d1-4458-8095-eaa5800ea3d3"
      },
      "source": [
        "net = SimpleNet()\n",
        "print(net.W)"
      ],
      "execution_count": null,
      "outputs": [
        {
          "output_type": "stream",
          "text": [
            "[[ 0.8858294   0.63190187  0.04026035]\n",
            " [-0.90312288  0.17532267  0.19443089]]\n"
          ],
          "name": "stdout"
        }
      ]
    },
    {
      "cell_type": "code",
      "metadata": {
        "colab": {
          "base_uri": "https://localhost:8080/"
        },
        "id": "TsB2pwxW2TfI",
        "outputId": "1080b8bd-2545-4033-a2c6-e17a9768a40a"
      },
      "source": [
        "x = np.array([0.6, 0.9])\n",
        "p = net.predict(x)\n",
        "print(p)\n"
      ],
      "execution_count": null,
      "outputs": [
        {
          "output_type": "stream",
          "text": [
            "[0.20477828 0.46413353 0.33108819]\n"
          ],
          "name": "stdout"
        }
      ]
    },
    {
      "cell_type": "code",
      "metadata": {
        "colab": {
          "base_uri": "https://localhost:8080/"
        },
        "id": "-j2uCsYy2Wm2",
        "outputId": "0e3b595d-2ead-416d-e6b0-ff871ff276fe"
      },
      "source": [
        "np.argmax(p)"
      ],
      "execution_count": null,
      "outputs": [
        {
          "output_type": "execute_result",
          "data": {
            "text/plain": [
              "1"
            ]
          },
          "metadata": {
            "tags": []
          },
          "execution_count": 147
        }
      ]
    },
    {
      "cell_type": "code",
      "metadata": {
        "colab": {
          "base_uri": "https://localhost:8080/"
        },
        "id": "9-czL2Bz2yBq",
        "outputId": "d67db5b6-b687-4afe-ed77-51909d367055"
      },
      "source": [
        "y = np.array([0, 0, 1]) # 정답 레이블\n",
        "net.loss(x, y)"
      ],
      "execution_count": null,
      "outputs": [
        {
          "output_type": "execute_result",
          "data": {
            "text/plain": [
              "1.105370197104486"
            ]
          },
          "metadata": {
            "tags": []
          },
          "execution_count": 148
        }
      ]
    },
    {
      "cell_type": "code",
      "metadata": {
        "colab": {
          "base_uri": "https://localhost:8080/"
        },
        "id": "CagMM4W521Op",
        "outputId": "db8b9b55-facb-42cd-b346-44cce0d1d004"
      },
      "source": [
        "dW = net.num_grad(x, y)\n",
        "print(dW)\n"
      ],
      "execution_count": null,
      "outputs": [
        {
          "output_type": "stream",
          "text": [
            "[[ 0.12286693  0.27848004 -0.40134696]\n",
            " [ 0.18430039  0.41772005 -0.60202045]]\n"
          ],
          "name": "stdout"
        }
      ]
    },
    {
      "cell_type": "code",
      "metadata": {
        "id": "VfHC3QT2220z"
      },
      "source": [
        ""
      ],
      "execution_count": null,
      "outputs": []
    }
  ]
}