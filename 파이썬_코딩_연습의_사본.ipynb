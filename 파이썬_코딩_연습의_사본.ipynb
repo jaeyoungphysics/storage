{
  "nbformat": 4,
  "nbformat_minor": 0,
  "metadata": {
    "colab": {
      "name": "파이썬 코딩 연습의 사본",
      "provenance": [],
      "collapsed_sections": [],
      "include_colab_link": true
    },
    "kernelspec": {
      "name": "python3",
      "display_name": "Python 3"
    }
  },
  "cells": [
    {
      "cell_type": "markdown",
      "metadata": {
        "id": "view-in-github",
        "colab_type": "text"
      },
      "source": [
        "<a href=\"https://colab.research.google.com/github/jaeyoungphysics/storage/blob/master/%ED%8C%8C%EC%9D%B4%EC%8D%AC_%EC%BD%94%EB%94%A9_%EC%97%B0%EC%8A%B5%EC%9D%98_%EC%82%AC%EB%B3%B8.ipynb\" target=\"_parent\"><img src=\"https://colab.research.google.com/assets/colab-badge.svg\" alt=\"Open In Colab\"/></a>"
      ]
    },
    {
      "cell_type": "code",
      "metadata": {
        "id": "AnVAszuoLzs5",
        "colab_type": "code",
        "colab": {
          "base_uri": "https://localhost:8080/",
          "height": 34
        },
        "outputId": "e68e4586-1432-49d6-999a-76cfb3813df3"
      },
      "source": [
        "a=1\n",
        "b=2\n",
        "a/b"
      ],
      "execution_count": null,
      "outputs": [
        {
          "output_type": "execute_result",
          "data": {
            "text/plain": [
              "0.5"
            ]
          },
          "metadata": {
            "tags": []
          },
          "execution_count": 1
        }
      ]
    },
    {
      "cell_type": "code",
      "metadata": {
        "id": "KzTe4sMknEna",
        "colab_type": "code",
        "colab": {}
      },
      "source": [
        "from google.colab import drive\n",
        "drive.mount('/content/drive')"
      ],
      "execution_count": null,
      "outputs": []
    },
    {
      "cell_type": "code",
      "metadata": {
        "id": "-09rv35yL3En",
        "colab_type": "code",
        "colab": {}
      },
      "source": [
        "import keras"
      ],
      "execution_count": null,
      "outputs": []
    },
    {
      "cell_type": "code",
      "metadata": {
        "id": "qH-mICWTL8Po",
        "colab_type": "code",
        "colab": {
          "base_uri": "https://localhost:8080/",
          "height": 34
        },
        "outputId": "99fe0990-5b08-4a52-de1e-ad3d8299d0b8"
      },
      "source": [
        "x=[1,2,3,4,5]\n",
        "len(x)"
      ],
      "execution_count": null,
      "outputs": [
        {
          "output_type": "execute_result",
          "data": {
            "text/plain": [
              "5"
            ]
          },
          "metadata": {
            "tags": []
          },
          "execution_count": 3
        }
      ]
    },
    {
      "cell_type": "code",
      "metadata": {
        "id": "znoR56jrMUYV",
        "colab_type": "code",
        "colab": {
          "base_uri": "https://localhost:8080/",
          "height": 34
        },
        "outputId": "d91d0547-d16f-48b5-aaf6-488dc09ed82f"
      },
      "source": [
        "y=range(5,10)\n",
        "print(y[0],y[1],y[2],y[3],y[4])"
      ],
      "execution_count": null,
      "outputs": [
        {
          "output_type": "stream",
          "text": [
            "5 6 7 8 9\n"
          ],
          "name": "stdout"
        }
      ]
    },
    {
      "cell_type": "code",
      "metadata": {
        "id": "ci2VbDDKMdsB",
        "colab_type": "code",
        "colab": {
          "base_uri": "https://localhost:8080/",
          "height": 34
        },
        "outputId": "1d739141-c06b-4552-e8a9-1b26801e73ef"
      },
      "source": [
        "Z=list(range(5,10))\n",
        "print(Z)"
      ],
      "execution_count": null,
      "outputs": [
        {
          "output_type": "stream",
          "text": [
            "[5, 6, 7, 8, 9]\n"
          ],
          "name": "stdout"
        }
      ]
    },
    {
      "cell_type": "code",
      "metadata": {
        "id": "heggRx_OOGes",
        "colab_type": "code",
        "colab": {
          "base_uri": "https://localhost:8080/",
          "height": 34
        },
        "outputId": "bd2b6b24-4233-4340-c82e-f204a8d5c3f8"
      },
      "source": [
        "a=[[1,2,3,],[4,5,6]]\n",
        "print(a[0][1])"
      ],
      "execution_count": null,
      "outputs": [
        {
          "output_type": "stream",
          "text": [
            "2\n"
          ],
          "name": "stdout"
        }
      ]
    },
    {
      "cell_type": "code",
      "metadata": {
        "id": "6sqpMGrySvdW",
        "colab_type": "code",
        "colab": {
          "base_uri": "https://localhost:8080/",
          "height": 34
        },
        "outputId": "58bf344b-b993-4352-b3a4-b676fad31d88"
      },
      "source": [
        "x=[1,1,2,3,5]\n",
        "x[3]=100\n",
        "print(x)"
      ],
      "execution_count": null,
      "outputs": [
        {
          "output_type": "stream",
          "text": [
            "[1, 1, 2, 100, 5]\n"
          ],
          "name": "stdout"
        }
      ]
    },
    {
      "cell_type": "code",
      "metadata": {
        "id": "LmmgLkYtS8MV",
        "colab_type": "code",
        "colab": {
          "base_uri": "https://localhost:8080/",
          "height": 34
        },
        "outputId": "17ef2e4c-093a-48bc-c361-7ca64cfb68b6"
      },
      "source": [
        "num=[2,4,6,8,10]\n",
        "for i in range(len(num)):\n",
        "  num[i]=num[i]*2\n",
        "print(num)"
      ],
      "execution_count": null,
      "outputs": [
        {
          "output_type": "stream",
          "text": [
            "[4, 8, 12, 16, 20]\n"
          ],
          "name": "stdout"
        }
      ]
    },
    {
      "cell_type": "code",
      "metadata": {
        "id": "xYJCm0dlT9Fb",
        "colab_type": "code",
        "colab": {
          "base_uri": "https://localhost:8080/",
          "height": 34
        },
        "outputId": "27cd392f-cc70-4ff2-ecb2-5a243b6175c5"
      },
      "source": [
        "num=[2,4,6,8,10]\n",
        "for i,n in enumerate(num):\n",
        "  num[i]=n*2\n",
        "print(num)"
      ],
      "execution_count": null,
      "outputs": [
        {
          "output_type": "stream",
          "text": [
            "[4, 8, 12, 16, 20]\n"
          ],
          "name": "stdout"
        }
      ]
    },
    {
      "cell_type": "code",
      "metadata": {
        "id": "rCYANH3rUeyr",
        "colab_type": "code",
        "colab": {
          "base_uri": "https://localhost:8080/",
          "height": 34
        },
        "outputId": "bf44b6e1-0246-4c05-cb04-cd6e349c2d5d"
      },
      "source": [
        "[1,2]+[3,4]"
      ],
      "execution_count": null,
      "outputs": [
        {
          "output_type": "execute_result",
          "data": {
            "text/plain": [
              "[1, 2, 3, 4]"
            ]
          },
          "metadata": {
            "tags": []
          },
          "execution_count": 13
        }
      ]
    },
    {
      "cell_type": "code",
      "metadata": {
        "id": "IOCwMreiUmc1",
        "colab_type": "code",
        "colab": {
          "base_uri": "https://localhost:8080/",
          "height": 34
        },
        "outputId": "a8ee0364-e042-4666-a12d-6da4cce41dd5"
      },
      "source": [
        "import numpy as np\n",
        "x=np.array([1,2,3])\n",
        "x"
      ],
      "execution_count": null,
      "outputs": [
        {
          "output_type": "execute_result",
          "data": {
            "text/plain": [
              "array([1, 2, 3])"
            ]
          },
          "metadata": {
            "tags": []
          },
          "execution_count": 14
        }
      ]
    },
    {
      "cell_type": "code",
      "metadata": {
        "id": "OAx5XQxeU4-U",
        "colab_type": "code",
        "colab": {
          "base_uri": "https://localhost:8080/",
          "height": 34
        },
        "outputId": "e8454118-05bd-4adb-f8d5-a6123d4ebd4e"
      },
      "source": [
        "print(x)"
      ],
      "execution_count": null,
      "outputs": [
        {
          "output_type": "stream",
          "text": [
            "[1 2 3]\n"
          ],
          "name": "stdout"
        }
      ]
    },
    {
      "cell_type": "code",
      "metadata": {
        "id": "mYkZywzmU9Mo",
        "colab_type": "code",
        "colab": {
          "base_uri": "https://localhost:8080/",
          "height": 34
        },
        "outputId": "d6500206-b4ae-40f7-fc15-8a562b4008ab"
      },
      "source": [
        "print(list(x))"
      ],
      "execution_count": null,
      "outputs": [
        {
          "output_type": "stream",
          "text": [
            "[1, 2, 3]\n"
          ],
          "name": "stdout"
        }
      ]
    },
    {
      "cell_type": "code",
      "metadata": {
        "id": "1KTzEo3_VC1K",
        "colab_type": "code",
        "colab": {
          "base_uri": "https://localhost:8080/",
          "height": 34
        },
        "outputId": "aeead162-dd78-4cb0-f5ec-ab0618202d50"
      },
      "source": [
        "y=np.array([4,5,6])\n",
        "print(x+y)"
      ],
      "execution_count": null,
      "outputs": [
        {
          "output_type": "stream",
          "text": [
            "[5 7 9]\n"
          ],
          "name": "stdout"
        }
      ]
    },
    {
      "cell_type": "code",
      "metadata": {
        "id": "1TvNh8VhVoVH",
        "colab_type": "code",
        "colab": {
          "base_uri": "https://localhost:8080/",
          "height": 34
        },
        "outputId": "cd7e6518-fdec-44cd-8997-6171a7e3904a"
      },
      "source": [
        "type(x)"
      ],
      "execution_count": null,
      "outputs": [
        {
          "output_type": "execute_result",
          "data": {
            "text/plain": [
              "numpy.ndarray"
            ]
          },
          "metadata": {
            "tags": []
          },
          "execution_count": 18
        }
      ]
    },
    {
      "cell_type": "code",
      "metadata": {
        "id": "r1OPpcSMVrmr",
        "colab_type": "code",
        "colab": {
          "base_uri": "https://localhost:8080/",
          "height": 34
        },
        "outputId": "308f5b6f-8087-47fd-d4c2-d83c9267e2a0"
      },
      "source": [
        "x[0]"
      ],
      "execution_count": null,
      "outputs": [
        {
          "output_type": "execute_result",
          "data": {
            "text/plain": [
              "1"
            ]
          },
          "metadata": {
            "tags": []
          },
          "execution_count": 19
        }
      ]
    },
    {
      "cell_type": "code",
      "metadata": {
        "id": "qo3XhzxVVu0Z",
        "colab_type": "code",
        "colab": {
          "base_uri": "https://localhost:8080/",
          "height": 34
        },
        "outputId": "224c5596-ad58-4a98-8312-4bfa6de9f338"
      },
      "source": [
        "print(np.arange(10))"
      ],
      "execution_count": null,
      "outputs": [
        {
          "output_type": "stream",
          "text": [
            "[0 1 2 3 4 5 6 7 8 9]\n"
          ],
          "name": "stdout"
        }
      ]
    },
    {
      "cell_type": "code",
      "metadata": {
        "id": "RBs8uZbvV7mY",
        "colab_type": "code",
        "colab": {
          "base_uri": "https://localhost:8080/",
          "height": 120
        },
        "outputId": "131d7591-e226-4847-84f7-dbe67ec02c22"
      },
      "source": [
        "j=np.array([4,5,6])\n",
        "for i in np.arange(1,4):\n",
        "  print(i)\n",
        "  print(i+j)"
      ],
      "execution_count": null,
      "outputs": [
        {
          "output_type": "stream",
          "text": [
            "1\n",
            "[5 6 7]\n",
            "2\n",
            "[6 7 8]\n",
            "3\n",
            "[7 8 9]\n"
          ],
          "name": "stdout"
        }
      ]
    },
    {
      "cell_type": "code",
      "metadata": {
        "id": "mI3m3w2DWyV8",
        "colab_type": "code",
        "colab": {
          "base_uri": "https://localhost:8080/",
          "height": 86
        },
        "outputId": "fd62dc8c-29ab-466a-a50a-fa9bfa6daf14"
      },
      "source": [
        "a=np.array([1,1])\n",
        "b=a.copy()\n",
        "print('a='+str(a))\n",
        "print('b='+str(b))\n",
        "b[0]=100\n",
        "print('b='+str(b))\n",
        "print('a='+str(a))"
      ],
      "execution_count": null,
      "outputs": [
        {
          "output_type": "stream",
          "text": [
            "a=[1 1]\n",
            "b=[1 1]\n",
            "b=[100   1]\n",
            "a=[1 1]\n"
          ],
          "name": "stdout"
        }
      ]
    },
    {
      "cell_type": "code",
      "metadata": {
        "id": "oI6AcWpBXVHc",
        "colab_type": "code",
        "colab": {
          "base_uri": "https://localhost:8080/",
          "height": 51
        },
        "outputId": "92445a4a-890d-4518-8e73-105e921efdca"
      },
      "source": [
        "x=np.array([[1,2,3],[4,5,6]])\n",
        "print(x)"
      ],
      "execution_count": null,
      "outputs": [
        {
          "output_type": "stream",
          "text": [
            "[[1 2 3]\n",
            " [4 5 6]]\n"
          ],
          "name": "stdout"
        }
      ]
    },
    {
      "cell_type": "code",
      "metadata": {
        "id": "lP2LPRuvYFTE",
        "colab_type": "code",
        "colab": {
          "base_uri": "https://localhost:8080/",
          "height": 34
        },
        "outputId": "0e9cbcf7-9f9b-40f7-b5f1-9b2fd031f540"
      },
      "source": [
        "x.shape"
      ],
      "execution_count": null,
      "outputs": [
        {
          "output_type": "execute_result",
          "data": {
            "text/plain": [
              "(2, 3)"
            ]
          },
          "metadata": {
            "tags": []
          },
          "execution_count": 31
        }
      ]
    },
    {
      "cell_type": "code",
      "metadata": {
        "id": "ZWCl-CSuYTuK",
        "colab_type": "code",
        "colab": {
          "base_uri": "https://localhost:8080/",
          "height": 51
        },
        "outputId": "0ff0bea0-5493-4805-8d40-42950513e532"
      },
      "source": [
        "w,h=x.shape\n",
        "print(w)\n",
        "print(h)"
      ],
      "execution_count": null,
      "outputs": [
        {
          "output_type": "stream",
          "text": [
            "2\n",
            "3\n"
          ],
          "name": "stdout"
        }
      ]
    },
    {
      "cell_type": "code",
      "metadata": {
        "id": "aKfJtRo1YbSE",
        "colab_type": "code",
        "colab": {
          "base_uri": "https://localhost:8080/",
          "height": 34
        },
        "outputId": "b07e6988-943c-4184-b7cf-da58596feb92"
      },
      "source": [
        "type(x.shape)"
      ],
      "execution_count": null,
      "outputs": [
        {
          "output_type": "execute_result",
          "data": {
            "text/plain": [
              "tuple"
            ]
          },
          "metadata": {
            "tags": []
          },
          "execution_count": 34
        }
      ]
    },
    {
      "cell_type": "code",
      "metadata": {
        "id": "LC59aMtkYjBM",
        "colab_type": "code",
        "colab": {
          "base_uri": "https://localhost:8080/",
          "height": 34
        },
        "outputId": "1bf8f26e-585f-4099-eaec-805a5e114d5d"
      },
      "source": [
        "print(np.zeros(10))"
      ],
      "execution_count": null,
      "outputs": [
        {
          "output_type": "stream",
          "text": [
            "[0. 0. 0. 0. 0. 0. 0. 0. 0. 0.]\n"
          ],
          "name": "stdout"
        }
      ]
    },
    {
      "cell_type": "code",
      "metadata": {
        "id": "Q5dlquGNYufU",
        "colab_type": "code",
        "colab": {
          "base_uri": "https://localhost:8080/",
          "height": 51
        },
        "outputId": "e7dd3834-9dc5-47ab-d6af-0f5569430a9e"
      },
      "source": [
        "print(np.ones((2,10)))"
      ],
      "execution_count": null,
      "outputs": [
        {
          "output_type": "stream",
          "text": [
            "[[1. 1. 1. 1. 1. 1. 1. 1. 1. 1.]\n",
            " [1. 1. 1. 1. 1. 1. 1. 1. 1. 1.]]\n"
          ],
          "name": "stdout"
        }
      ]
    },
    {
      "cell_type": "code",
      "metadata": {
        "id": "Qt7tagTGY5gN",
        "colab_type": "code",
        "colab": {
          "base_uri": "https://localhost:8080/",
          "height": 51
        },
        "outputId": "18de11bd-9181-4b8a-be5f-f29f046f9d8e"
      },
      "source": [
        "np.random.rand(2,3)"
      ],
      "execution_count": null,
      "outputs": [
        {
          "output_type": "execute_result",
          "data": {
            "text/plain": [
              "array([[0.0756287 , 0.21580369, 0.83428484],\n",
              "       [0.36548964, 0.92687238, 0.53263562]])"
            ]
          },
          "metadata": {
            "tags": []
          },
          "execution_count": 37
        }
      ]
    },
    {
      "cell_type": "code",
      "metadata": {
        "id": "Ej2XCWHKZC_w",
        "colab_type": "code",
        "colab": {
          "base_uri": "https://localhost:8080/",
          "height": 51
        },
        "outputId": "06f39491-deb0-4fe4-9f3c-853df7b96b1c"
      },
      "source": [
        "np.random.randn(10)\n",
        "#가우스 분포의 난수 생성"
      ],
      "execution_count": null,
      "outputs": [
        {
          "output_type": "execute_result",
          "data": {
            "text/plain": [
              "array([-1.98663512, -1.72215943, -1.15273258,  2.26088601,  0.18188646,\n",
              "       -0.37137286,  1.10319678,  1.25512077, -0.4447134 ,  0.47585069])"
            ]
          },
          "metadata": {
            "tags": []
          },
          "execution_count": 40
        }
      ]
    },
    {
      "cell_type": "code",
      "metadata": {
        "id": "N7IyG6Z7ZHeI",
        "colab_type": "code",
        "colab": {
          "base_uri": "https://localhost:8080/",
          "height": 34
        },
        "outputId": "2fd34376-7a15-43ae-efc5-d2c7bfb1d235"
      },
      "source": [
        "np.random.randint(1,5,3)\n",
        "#(low,high,size)"
      ],
      "execution_count": null,
      "outputs": [
        {
          "output_type": "execute_result",
          "data": {
            "text/plain": [
              "array([3, 2, 4])"
            ]
          },
          "metadata": {
            "tags": []
          },
          "execution_count": 42
        }
      ]
    },
    {
      "cell_type": "code",
      "metadata": {
        "id": "w0TQSXEMZW7S",
        "colab_type": "code",
        "colab": {
          "base_uri": "https://localhost:8080/",
          "height": 34
        },
        "outputId": "a1d81d80-6298-44ef-ab7e-71a2d89c2619"
      },
      "source": [
        "a=np.arange(10)\n",
        "print(a)"
      ],
      "execution_count": null,
      "outputs": [
        {
          "output_type": "stream",
          "text": [
            "[0 1 2 3 4 5 6 7 8 9]\n"
          ],
          "name": "stdout"
        }
      ]
    },
    {
      "cell_type": "markdown",
      "metadata": {
        "id": "tY5vkNTJaeB_",
        "colab_type": "text"
      },
      "source": [
        ""
      ]
    },
    {
      "cell_type": "code",
      "metadata": {
        "id": "RPXxrsGNaf4o",
        "colab_type": "code",
        "colab": {
          "base_uri": "https://localhost:8080/",
          "height": 51
        },
        "outputId": "17b4005f-f3f7-464f-9ada-9c798fa83f27"
      },
      "source": [
        "a.reshape(2,5)\n"
      ],
      "execution_count": null,
      "outputs": [
        {
          "output_type": "execute_result",
          "data": {
            "text/plain": [
              "array([[0, 1, 2, 3, 4],\n",
              "       [5, 6, 7, 8, 9]])"
            ]
          },
          "metadata": {
            "tags": []
          },
          "execution_count": 49
        }
      ]
    },
    {
      "cell_type": "code",
      "metadata": {
        "id": "IbahjWjJa6ZF",
        "colab_type": "code",
        "colab": {
          "base_uri": "https://localhost:8080/",
          "height": 51
        },
        "outputId": "882c40b2-2d89-43ed-adf2-8835ab0dac67"
      },
      "source": [
        "x=np.array([[4,4,4],[8,8,8]])\n",
        "y=np.array([[1,1,1],[2,2,2]])\n",
        "print(x+y)"
      ],
      "execution_count": null,
      "outputs": [
        {
          "output_type": "stream",
          "text": [
            "[[ 5  5  5]\n",
            " [10 10 10]]\n"
          ],
          "name": "stdout"
        }
      ]
    },
    {
      "cell_type": "code",
      "metadata": {
        "id": "XN_6HTllbCIV",
        "colab_type": "code",
        "colab": {
          "base_uri": "https://localhost:8080/",
          "height": 51
        },
        "outputId": "7cc71d38-2324-4189-f036-130a6fdd5b7b"
      },
      "source": [
        "print(10*x)"
      ],
      "execution_count": null,
      "outputs": [
        {
          "output_type": "stream",
          "text": [
            "[[40 40 40]\n",
            " [80 80 80]]\n"
          ],
          "name": "stdout"
        }
      ]
    },
    {
      "cell_type": "code",
      "metadata": {
        "id": "TCkT47u5bTFM",
        "colab_type": "code",
        "colab": {
          "base_uri": "https://localhost:8080/",
          "height": 154
        },
        "outputId": "a80668ef-7168-4d0a-8916-83826e3d4bc4"
      },
      "source": [
        "print(np.sqrt(x))\n",
        "print(np.log(x))\n",
        "print(np.mean(x))\n",
        "print(np.std(x))\n",
        "print(np.max(x))\n",
        "print(np.min(x))"
      ],
      "execution_count": null,
      "outputs": [
        {
          "output_type": "stream",
          "text": [
            "[[2.         2.         2.        ]\n",
            " [2.82842712 2.82842712 2.82842712]]\n",
            "[[1.38629436 1.38629436 1.38629436]\n",
            " [2.07944154 2.07944154 2.07944154]]\n",
            "6.0\n",
            "2.0\n",
            "8\n",
            "4\n"
          ],
          "name": "stdout"
        }
      ]
    },
    {
      "cell_type": "code",
      "metadata": {
        "id": "vrUtF1tfboHZ",
        "colab_type": "code",
        "colab": {
          "base_uri": "https://localhost:8080/",
          "height": 51
        },
        "outputId": "8f885694-9df8-4d2f-a7f7-40b84ff780d6"
      },
      "source": [
        "v=np.array([[1,2,3],[4,5,6]])\n",
        "w=np.array([[1,1],[2,2],[3,3]])\n",
        "print(v.dot(w))"
      ],
      "execution_count": null,
      "outputs": [
        {
          "output_type": "stream",
          "text": [
            "[[14 14]\n",
            " [32 32]]\n"
          ],
          "name": "stdout"
        }
      ]
    },
    {
      "cell_type": "code",
      "metadata": {
        "id": "LD0JYGGZc1sp",
        "colab_type": "code",
        "colab": {
          "base_uri": "https://localhost:8080/",
          "height": 51
        },
        "outputId": "7ec5332f-7c59-4ffe-a537-5de18bc500cc"
      },
      "source": [
        "import numpy as np\n",
        "x=np.arange(10)\n",
        "print(x)\n",
        "print(x[:5])"
      ],
      "execution_count": null,
      "outputs": [
        {
          "output_type": "stream",
          "text": [
            "[0 1 2 3 4 5 6 7 8 9]\n",
            "[0 1 2 3 4]\n"
          ],
          "name": "stdout"
        }
      ]
    },
    {
      "cell_type": "code",
      "metadata": {
        "id": "KZItXUlAeXzY",
        "colab_type": "code",
        "colab": {
          "base_uri": "https://localhost:8080/",
          "height": 34
        },
        "outputId": "8a67b304-f7b9-4857-800e-181e5956fbc4"
      },
      "source": [
        "print(x[5:])"
      ],
      "execution_count": null,
      "outputs": [
        {
          "output_type": "stream",
          "text": [
            "[5 6 7 8 9]\n"
          ],
          "name": "stdout"
        }
      ]
    },
    {
      "cell_type": "code",
      "metadata": {
        "id": "Lxj3f6OAemVo",
        "colab_type": "code",
        "colab": {
          "base_uri": "https://localhost:8080/",
          "height": 34
        },
        "outputId": "ffdca9ac-783a-4143-b53c-929d611b9016"
      },
      "source": [
        "x=np.array([1,1,2,3,5,8,13])\n",
        "x>3"
      ],
      "execution_count": null,
      "outputs": [
        {
          "output_type": "execute_result",
          "data": {
            "text/plain": [
              "array([False, False, False, False,  True,  True,  True])"
            ]
          },
          "metadata": {
            "tags": []
          },
          "execution_count": 5
        }
      ]
    },
    {
      "cell_type": "code",
      "metadata": {
        "id": "Tlhr9_YVfW-R",
        "colab_type": "code",
        "colab": {
          "base_uri": "https://localhost:8080/",
          "height": 34
        },
        "outputId": "e549aaa1-24a6-4d53-f250-2f560e5243ef"
      },
      "source": [
        "x[x>3]"
      ],
      "execution_count": null,
      "outputs": [
        {
          "output_type": "execute_result",
          "data": {
            "text/plain": [
              "array([ 5,  8, 13])"
            ]
          },
          "metadata": {
            "tags": []
          },
          "execution_count": 6
        }
      ]
    },
    {
      "cell_type": "code",
      "metadata": {
        "id": "wIrtdDdIfZ8G",
        "colab_type": "code",
        "colab": {
          "base_uri": "https://localhost:8080/",
          "height": 34
        },
        "outputId": "bb71a848-eca9-4a2c-b593-2d6d5c421148"
      },
      "source": [
        "x[x>3]=999\n",
        "print(x)"
      ],
      "execution_count": null,
      "outputs": [
        {
          "output_type": "stream",
          "text": [
            "[  1   1   2   3 999 999 999]\n"
          ],
          "name": "stdout"
        }
      ]
    },
    {
      "cell_type": "code",
      "metadata": {
        "id": "hICjfyVGfg6N",
        "colab_type": "code",
        "colab": {
          "base_uri": "https://localhost:8080/",
          "height": 1000
        },
        "outputId": "8e193821-8b1a-4acb-96be-c86efd838b20"
      },
      "source": [
        "help(np.random.randint)"
      ],
      "execution_count": null,
      "outputs": [
        {
          "output_type": "stream",
          "text": [
            "Help on built-in function randint:\n",
            "\n",
            "randint(...) method of numpy.random.mtrand.RandomState instance\n",
            "    randint(low, high=None, size=None, dtype=int)\n",
            "    \n",
            "    Return random integers from `low` (inclusive) to `high` (exclusive).\n",
            "    \n",
            "    Return random integers from the \"discrete uniform\" distribution of\n",
            "    the specified dtype in the \"half-open\" interval [`low`, `high`). If\n",
            "    `high` is None (the default), then results are from [0, `low`).\n",
            "    \n",
            "    .. note::\n",
            "        New code should use the ``integers`` method of a ``default_rng()``\n",
            "        instance instead; see `random-quick-start`.\n",
            "    \n",
            "    Parameters\n",
            "    ----------\n",
            "    low : int or array-like of ints\n",
            "        Lowest (signed) integers to be drawn from the distribution (unless\n",
            "        ``high=None``, in which case this parameter is one above the\n",
            "        *highest* such integer).\n",
            "    high : int or array-like of ints, optional\n",
            "        If provided, one above the largest (signed) integer to be drawn\n",
            "        from the distribution (see above for behavior if ``high=None``).\n",
            "        If array-like, must contain integer values\n",
            "    size : int or tuple of ints, optional\n",
            "        Output shape.  If the given shape is, e.g., ``(m, n, k)``, then\n",
            "        ``m * n * k`` samples are drawn.  Default is None, in which case a\n",
            "        single value is returned.\n",
            "    dtype : dtype, optional\n",
            "        Desired dtype of the result. Byteorder must be native.\n",
            "        The default value is int.\n",
            "    \n",
            "        .. versionadded:: 1.11.0\n",
            "    \n",
            "    Returns\n",
            "    -------\n",
            "    out : int or ndarray of ints\n",
            "        `size`-shaped array of random integers from the appropriate\n",
            "        distribution, or a single such random int if `size` not provided.\n",
            "    \n",
            "    See Also\n",
            "    --------\n",
            "    random_integers : similar to `randint`, only for the closed\n",
            "        interval [`low`, `high`], and 1 is the lowest value if `high` is\n",
            "        omitted.\n",
            "    Generator.integers: which should be used for new code.\n",
            "    \n",
            "    Examples\n",
            "    --------\n",
            "    >>> np.random.randint(2, size=10)\n",
            "    array([1, 0, 0, 0, 1, 1, 0, 0, 1, 0]) # random\n",
            "    >>> np.random.randint(1, size=10)\n",
            "    array([0, 0, 0, 0, 0, 0, 0, 0, 0, 0])\n",
            "    \n",
            "    Generate a 2 x 4 array of ints between 0 and 4, inclusive:\n",
            "    \n",
            "    >>> np.random.randint(5, size=(2, 4))\n",
            "    array([[4, 0, 2, 1], # random\n",
            "           [3, 2, 2, 0]])\n",
            "    \n",
            "    Generate a 1 x 3 array with 3 different upper bounds\n",
            "    \n",
            "    >>> np.random.randint(1, [3, 5, 10])\n",
            "    array([2, 2, 9]) # random\n",
            "    \n",
            "    Generate a 1 by 3 array with 3 different lower bounds\n",
            "    \n",
            "    >>> np.random.randint([1, 5, 7], 10)\n",
            "    array([9, 8, 7]) # random\n",
            "    \n",
            "    Generate a 2 by 4 array using broadcasting with dtype of uint8\n",
            "    \n",
            "    >>> np.random.randint([1, 3, 5, 7], [[10], [20]], dtype=np.uint8)\n",
            "    array([[ 8,  6,  9,  7], # random\n",
            "           [ 1, 16,  9, 12]], dtype=uint8)\n",
            "\n"
          ],
          "name": "stdout"
        }
      ]
    },
    {
      "cell_type": "code",
      "metadata": {
        "id": "nrdFjI1sfnLq",
        "colab_type": "code",
        "colab": {
          "base_uri": "https://localhost:8080/",
          "height": 34
        },
        "outputId": "89c63677-fe89-4fb2-c553-bbfffe3b9f05"
      },
      "source": [
        "def my_func2(a,b):\n",
        "  c=a+b\n",
        "  return c\n",
        "my_func2(1,2)"
      ],
      "execution_count": null,
      "outputs": [
        {
          "output_type": "execute_result",
          "data": {
            "text/plain": [
              "3"
            ]
          },
          "metadata": {
            "tags": []
          },
          "execution_count": 9
        }
      ]
    },
    {
      "cell_type": "code",
      "metadata": {
        "id": "cwbkoASnf6Z6",
        "colab_type": "code",
        "colab": {}
      },
      "source": [
        "def my_func(D):\n",
        "  m=np.mean(D)\n",
        "  s=np.std(D)\n",
        "  return m,s\n",
        "  "
      ],
      "execution_count": null,
      "outputs": []
    },
    {
      "cell_type": "code",
      "metadata": {
        "id": "VOxkLfXcgIFD",
        "colab_type": "code",
        "colab": {
          "base_uri": "https://localhost:8080/",
          "height": 34
        },
        "outputId": "374c80d8-379a-41e3-a67c-8b4daed022ee"
      },
      "source": [
        "data=np.random.randn(100)\n",
        "data_mean, data_std=my_func(data)\n",
        "print('mean:{0:.2f},std:{1:.2f}'.format(data_mean, data_std))"
      ],
      "execution_count": null,
      "outputs": [
        {
          "output_type": "stream",
          "text": [
            "mean:0.04,std:0.98\n"
          ],
          "name": "stdout"
        }
      ]
    },
    {
      "cell_type": "code",
      "metadata": {
        "id": "tfP3kZyfhnUo",
        "colab_type": "code",
        "colab": {
          "base_uri": "https://localhost:8080/",
          "height": 68
        },
        "outputId": "66b4c739-d945-4b4e-b16a-99b16dc83cee"
      },
      "source": [
        "data=np.random.randn(5)\n",
        "print(data)\n",
        "np.save('datafile.npy',data)\n",
        "data=[] #데이터 삭제 \n",
        "print(data)\n",
        "data=np.load('datafile.npy')\n",
        "print(data)"
      ],
      "execution_count": null,
      "outputs": [
        {
          "output_type": "stream",
          "text": [
            "[-0.72810923 -0.52650968 -0.33228561  0.97680126 -0.03070402]\n",
            "[]\n",
            "[-0.72810923 -0.52650968 -0.33228561  0.97680126 -0.03070402]\n"
          ],
          "name": "stdout"
        }
      ]
    },
    {
      "cell_type": "code",
      "metadata": {
        "id": "2_wHFAxDh0Nf",
        "colab_type": "code",
        "colab": {
          "base_uri": "https://localhost:8080/",
          "height": 68
        },
        "outputId": "675ab452-8f77-4a3c-e598-313cbc142024"
      },
      "source": [
        "data1=np.array([1,2,3])\n",
        "data2=np.array([10,20,30])\n",
        "np.savez('datafile.npz',data1=data1,data2=data2) #save\n",
        "data1=[]\n",
        "data2=[] #data 삭제\n",
        "outfile=np.load('datafile.npz') #load\n",
        "print(outfile.files) #저장된 데이터 표시\n",
        "data1=outfile['data1']\n",
        "data2=outfile['data2']\n",
        "print(data1)\n",
        "print(data2)"
      ],
      "execution_count": null,
      "outputs": [
        {
          "output_type": "stream",
          "text": [
            "['data1', 'data2']\n",
            "[1 2 3]\n",
            "[10 20 30]\n"
          ],
          "name": "stdout"
        }
      ]
    },
    {
      "cell_type": "code",
      "metadata": {
        "id": "p3QwqE3vhz2r",
        "colab_type": "code",
        "colab": {
          "base_uri": "https://localhost:8080/",
          "height": 265
        },
        "outputId": "397c3ff9-5701-478a-ea61-0da1d319b9d3"
      },
      "source": [
        "#그래프 그리기 Chapter 3\n",
        "\n",
        "import numpy as np\n",
        "import matplotlib.pyplot as plt\n",
        "\n",
        "\n",
        "np.random.seed(1) #난수고정\n",
        "x=np.arange(10)\n",
        "y=np.random.rand(10)\n",
        "\n",
        "plt.plot(x,y)\n",
        "plt.show()"
      ],
      "execution_count": null,
      "outputs": [
        {
          "output_type": "display_data",
          "data": {
            "image/png": "[encoded data removed]",
            "text/plain": [
              "<Figure size 432x288 with 1 Axes>"
            ]
          },
          "metadata": {
            "tags": [],
            "needs_background": "light"
          }
        }
      ]
    },
    {
      "cell_type": "code",
      "metadata": {
        "id": "GmYSAHRrgHzo",
        "colab_type": "code",
        "colab": {
          "base_uri": "https://localhost:8080/",
          "height": 34
        },
        "outputId": "ef2c7380-6841-4a27-da20-579ee6059616"
      },
      "source": [
        "%reset"
      ],
      "execution_count": null,
      "outputs": [
        {
          "output_type": "stream",
          "text": [
            "Once deleted, variables cannot be recovered. Proceed (y/[n])? y\n"
          ],
          "name": "stdout"
        }
      ]
    },
    {
      "cell_type": "code",
      "metadata": {
        "id": "OWCAijOss5HJ",
        "colab_type": "code",
        "colab": {}
      },
      "source": [
        "import numpy as np\n",
        "import matplotlib.pyplot as plt\n",
        "\n",
        "def f(x):\n",
        "  return (x-2)*x*(x+2)"
      ],
      "execution_count": null,
      "outputs": []
    },
    {
      "cell_type": "code",
      "metadata": {
        "id": "A_SeOhhgs6nP",
        "colab_type": "code",
        "colab": {
          "base_uri": "https://localhost:8080/",
          "height": 34
        },
        "outputId": "5c1f4ce6-f79b-40b3-d81d-8daf39298098"
      },
      "source": [
        "print(f(1))"
      ],
      "execution_count": null,
      "outputs": [
        {
          "output_type": "stream",
          "text": [
            "-3\n"
          ],
          "name": "stdout"
        }
      ]
    },
    {
      "cell_type": "code",
      "metadata": {
        "id": "0v4RMlU9tNus",
        "colab_type": "code",
        "colab": {
          "base_uri": "https://localhost:8080/",
          "height": 34
        },
        "outputId": "7ad0f2d4-5a49-4d44-abce-73b0b7eb0bee"
      },
      "source": [
        "print(f(np.array([1,2,3])))"
      ],
      "execution_count": null,
      "outputs": [
        {
          "output_type": "stream",
          "text": [
            "[-3  0 15]\n"
          ],
          "name": "stdout"
        }
      ]
    },
    {
      "cell_type": "code",
      "metadata": {
        "id": "nzWCVTHRtfhl",
        "colab_type": "code",
        "colab": {
          "base_uri": "https://localhost:8080/",
          "height": 34
        },
        "outputId": "de533420-57a0-4c85-a3f5-7035ca5c8456"
      },
      "source": [
        "x=np.arange(-3,3.5,0.5)\n",
        "print(x)"
      ],
      "execution_count": null,
      "outputs": [
        {
          "output_type": "stream",
          "text": [
            "[-3.  -2.5 -2.  -1.5 -1.  -0.5  0.   0.5  1.   1.5  2.   2.5  3. ]\n"
          ],
          "name": "stdout"
        }
      ]
    },
    {
      "cell_type": "code",
      "metadata": {
        "id": "BCoJh2IZuA08",
        "colab_type": "code",
        "colab": {
          "base_uri": "https://localhost:8080/",
          "height": 34
        },
        "outputId": "82cb19af-bdac-41f2-d6fc-43003aa553ec"
      },
      "source": [
        "x=np.linspace(-3,3,10)\n",
        "print(np.round(x,2))"
      ],
      "execution_count": null,
      "outputs": [
        {
          "output_type": "stream",
          "text": [
            "[-3.   -2.33 -1.67 -1.   -0.33  0.33  1.    1.67  2.33  3.  ]\n"
          ],
          "name": "stdout"
        }
      ]
    },
    {
      "cell_type": "code",
      "metadata": {
        "id": "wBCP-80ruGIo",
        "colab_type": "code",
        "colab": {
          "base_uri": "https://localhost:8080/",
          "height": 265
        },
        "outputId": "56dd4237-631b-46ba-8f2a-100ff2292f87"
      },
      "source": [
        "plt.plot(x,f(x))\n",
        "plt.show()"
      ],
      "execution_count": null,
      "outputs": [
        {
          "output_type": "display_data",
          "data": {
            "image/png": "[encoded data removed]",
            "text/plain": [
              "<Figure size 432x288 with 1 Axes>"
            ]
          },
          "metadata": {
            "tags": [],
            "needs_background": "light"
          }
        }
      ]
    },
    {
      "cell_type": "code",
      "metadata": {
        "id": "-E4wYJYiuPDT",
        "colab_type": "code",
        "colab": {
          "base_uri": "https://localhost:8080/",
          "height": 297
        },
        "outputId": "8be882bd-aa01-45e2-e6c5-69b418ca00b4"
      },
      "source": [
        "def f2(x,w):\n",
        "  return (x-w)*x*(x+2)\n",
        "\n",
        "x=np.linspace(-3,3,100)\n",
        "\n",
        "plt.plot(x, f2(x,2), color='black', label='$w=2$')\n",
        "plt.plot(x, f2(x,1), color='cornflowerblue',\n",
        "         label='$w=1$')\n",
        "plt.legend(loc=\"upper left\")\n",
        "plt.ylim(-15,15)\n",
        "plt.title('$f_2(x)$')\n",
        "plt.xlabel('$x$')\n",
        "plt.ylabel('$y$')\n",
        "plt.grid(True)\n",
        "plt.show()"
      ],
      "execution_count": null,
      "outputs": [
        {
          "output_type": "display_data",
          "data": {
            "image/png": "[encoded data removed]",
            "text/plain": [
              "<Figure size 432x288 with 1 Axes>"
            ]
          },
          "metadata": {
            "tags": [],
            "needs_background": "light"
          }
        }
      ]
    },
    {
      "cell_type": "code",
      "metadata": {
        "id": "BTh8Uqq2uTCt",
        "colab_type": "code",
        "colab": {}
      },
      "source": [
        ""
      ],
      "execution_count": null,
      "outputs": []
    }
  ]
}